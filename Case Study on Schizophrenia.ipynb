{
 "cells": [
  {
   "cell_type": "markdown",
   "id": "734a6afc",
   "metadata": {},
   "source": [
    "# <center>  Case Study on Schizophrenia\n",
    "# Analysis performed by:-\n",
    "# `Prachi Sharma (2148141) and Varnika VN (2148149)`"
   ]
  },
  {
   "cell_type": "markdown",
   "id": "4390b2bd",
   "metadata": {},
   "source": [
    "# ~~~ ~~~~ Overview:\n",
    "\n",
    "Schizophrenia is a **serious mental disorder** in which people interpret reality abnormally. \n",
    "Schizophrenia may result in some combination of **hallucinations**, delusions, and extremely disordered thinking and behavior that impairs daily functioning, and can be disabling."
   ]
  },
  {
   "cell_type": "markdown",
   "id": "4f78b76c",
   "metadata": {},
   "source": [
    "# ~~~~ ~~~~ Problem Statement:"
   ]
  },
  {
   "cell_type": "markdown",
   "id": "2fbc2c07",
   "metadata": {},
   "source": [
    "Analysis of Condition of disease \"Schizophrenia\" in INDIA over past few years in different states and among different age groups and what policies can be implemented to overcome this issue."
   ]
  },
  {
   "cell_type": "markdown",
   "id": "f162c3b1",
   "metadata": {},
   "source": [
    "# ~~~~ ~~~~ Data Description (Task 1):\n",
    "    We have state wise data of \"No. of Mental hospitals in that particular state\",\"Bed Availibility\",\n",
    "    \"No. of Schizophrenic patients Admitted\", \"No. of Schizophrenic patients Discharged\",\"No. of Schizophrenic patients Deaths\" of three years **1995, 1996 and 1997 in INDIA**"
   ]
  },
  {
   "cell_type": "markdown",
   "id": "e7d28864",
   "metadata": {},
   "source": [
    "# ~~~~ ~~~~ Objective (Task 1):\n",
    "1. To predict the number of Schizophrenic patients which will be discharged from the hospital depending upon the number of Schizophrenic patients getting admitted.\n",
    "2. To determine which political party performed better in providing medical facilities to Schizophrenic patients based upon Bed availibility in different states."
   ]
  },
  {
   "cell_type": "markdown",
   "id": "b1cbee21",
   "metadata": {},
   "source": [
    "# ~~~~ ~~~~ Analysis:"
   ]
  },
  {
   "cell_type": "code",
   "execution_count": 2,
   "id": "658aba8b",
   "metadata": {},
   "outputs": [],
   "source": [
    "# Importing the required packages\n",
    "\n",
    "import pandas as pd\n",
    "import seaborn as sns\n",
    "import matplotlib.pyplot as plt"
   ]
  },
  {
   "cell_type": "markdown",
   "id": "46f53809",
   "metadata": {},
   "source": [
    "**IMPORTING THE DATASETS.**"
   ]
  },
  {
   "cell_type": "code",
   "execution_count": 3,
   "id": "198eeabb",
   "metadata": {},
   "outputs": [
    {
     "data": {
      "text/html": [
       "<div>\n",
       "<style scoped>\n",
       "    .dataframe tbody tr th:only-of-type {\n",
       "        vertical-align: middle;\n",
       "    }\n",
       "\n",
       "    .dataframe tbody tr th {\n",
       "        vertical-align: top;\n",
       "    }\n",
       "\n",
       "    .dataframe thead th {\n",
       "        text-align: right;\n",
       "    }\n",
       "</style>\n",
       "<table border=\"1\" class=\"dataframe\">\n",
       "  <thead>\n",
       "    <tr style=\"text-align: right;\">\n",
       "      <th></th>\n",
       "      <th>No. of Mental Hospitals</th>\n",
       "      <th>Total No. of Beds</th>\n",
       "      <th>Admissions</th>\n",
       "      <th>Discharged</th>\n",
       "      <th>Deaths</th>\n",
       "    </tr>\n",
       "    <tr>\n",
       "      <th>States/UTs</th>\n",
       "      <th></th>\n",
       "      <th></th>\n",
       "      <th></th>\n",
       "      <th></th>\n",
       "      <th></th>\n",
       "    </tr>\n",
       "  </thead>\n",
       "  <tbody>\n",
       "    <tr>\n",
       "      <th>Andhra Pradesh</th>\n",
       "      <td>2</td>\n",
       "      <td>900</td>\n",
       "      <td>5307</td>\n",
       "      <td>5169</td>\n",
       "      <td>138</td>\n",
       "    </tr>\n",
       "    <tr>\n",
       "      <th>Assam</th>\n",
       "      <td>1</td>\n",
       "      <td>900</td>\n",
       "      <td>1915</td>\n",
       "      <td>1560</td>\n",
       "      <td>355</td>\n",
       "    </tr>\n",
       "    <tr>\n",
       "      <th>Bihar</th>\n",
       "      <td>3</td>\n",
       "      <td>1657</td>\n",
       "      <td>2347</td>\n",
       "      <td>2467</td>\n",
       "      <td>29</td>\n",
       "    </tr>\n",
       "    <tr>\n",
       "      <th>Goa</th>\n",
       "      <td>1</td>\n",
       "      <td>278</td>\n",
       "      <td>2300</td>\n",
       "      <td>2295</td>\n",
       "      <td>10</td>\n",
       "    </tr>\n",
       "    <tr>\n",
       "      <th>Gujarat</th>\n",
       "      <td>6</td>\n",
       "      <td>842</td>\n",
       "      <td>130</td>\n",
       "      <td>108</td>\n",
       "      <td>5</td>\n",
       "    </tr>\n",
       "    <tr>\n",
       "      <th>Jammu &amp; Kashmir</th>\n",
       "      <td>2</td>\n",
       "      <td>NR</td>\n",
       "      <td>NR</td>\n",
       "      <td>NR</td>\n",
       "      <td>NR</td>\n",
       "    </tr>\n",
       "    <tr>\n",
       "      <th>Karnataka</th>\n",
       "      <td>2</td>\n",
       "      <td>1180</td>\n",
       "      <td>6280</td>\n",
       "      <td>6569</td>\n",
       "      <td>26</td>\n",
       "    </tr>\n",
       "    <tr>\n",
       "      <th>Kerala</th>\n",
       "      <td>3</td>\n",
       "      <td>1342</td>\n",
       "      <td>2387</td>\n",
       "      <td>4799</td>\n",
       "      <td>67</td>\n",
       "    </tr>\n",
       "    <tr>\n",
       "      <th>Madhya Pradesh</th>\n",
       "      <td>2</td>\n",
       "      <td>370</td>\n",
       "      <td>473</td>\n",
       "      <td>452</td>\n",
       "      <td>9</td>\n",
       "    </tr>\n",
       "    <tr>\n",
       "      <th>Maharashtra</th>\n",
       "      <td>5</td>\n",
       "      <td>6005</td>\n",
       "      <td>7338</td>\n",
       "      <td>7066</td>\n",
       "      <td>169</td>\n",
       "    </tr>\n",
       "    <tr>\n",
       "      <th>Nagaland</th>\n",
       "      <td>1</td>\n",
       "      <td>NR</td>\n",
       "      <td>NR</td>\n",
       "      <td>NR</td>\n",
       "      <td>NR</td>\n",
       "    </tr>\n",
       "    <tr>\n",
       "      <th>Orissa</th>\n",
       "      <td>1</td>\n",
       "      <td>60</td>\n",
       "      <td>755</td>\n",
       "      <td>712</td>\n",
       "      <td>3</td>\n",
       "    </tr>\n",
       "    <tr>\n",
       "      <th>Punjab</th>\n",
       "      <td>1</td>\n",
       "      <td>NR</td>\n",
       "      <td>NR</td>\n",
       "      <td>NR</td>\n",
       "      <td>NR</td>\n",
       "    </tr>\n",
       "    <tr>\n",
       "      <th>Rajasthan</th>\n",
       "      <td>2</td>\n",
       "      <td>410</td>\n",
       "      <td>1718</td>\n",
       "      <td>2347</td>\n",
       "      <td>3</td>\n",
       "    </tr>\n",
       "    <tr>\n",
       "      <th>Tamil Nadu</th>\n",
       "      <td>1</td>\n",
       "      <td>NR</td>\n",
       "      <td>NR</td>\n",
       "      <td>NR</td>\n",
       "      <td>NR</td>\n",
       "    </tr>\n",
       "    <tr>\n",
       "      <th>Uttar Pradesh</th>\n",
       "      <td>4</td>\n",
       "      <td>1499</td>\n",
       "      <td>1348</td>\n",
       "      <td>1332</td>\n",
       "      <td>24</td>\n",
       "    </tr>\n",
       "    <tr>\n",
       "      <th>West Bengal</th>\n",
       "      <td>7</td>\n",
       "      <td>NR</td>\n",
       "      <td>NR</td>\n",
       "      <td>NR</td>\n",
       "      <td>NR</td>\n",
       "    </tr>\n",
       "    <tr>\n",
       "      <th>Delhi</th>\n",
       "      <td>1</td>\n",
       "      <td>604</td>\n",
       "      <td>710</td>\n",
       "      <td>640</td>\n",
       "      <td>5</td>\n",
       "    </tr>\n",
       "  </tbody>\n",
       "</table>\n",
       "</div>"
      ],
      "text/plain": [
       "                 No. of Mental Hospitals Total No. of Beds Admissions  \\\n",
       "States/UTs                                                              \n",
       "Andhra Pradesh                         2               900       5307   \n",
       "Assam                                  1               900       1915   \n",
       "Bihar                                  3              1657       2347   \n",
       "Goa                                    1               278       2300   \n",
       "Gujarat                                6               842        130   \n",
       "Jammu & Kashmir                        2                NR         NR   \n",
       "Karnataka                              2              1180       6280   \n",
       "Kerala                                 3              1342       2387   \n",
       "Madhya Pradesh                         2               370        473   \n",
       "Maharashtra                            5              6005       7338   \n",
       "Nagaland                               1                NR         NR   \n",
       "Orissa                                 1                60        755   \n",
       "Punjab                                 1                NR         NR   \n",
       "Rajasthan                              2               410       1718   \n",
       "Tamil Nadu                             1                NR         NR   \n",
       "Uttar Pradesh                          4              1499       1348   \n",
       "West Bengal                            7                NR         NR   \n",
       "Delhi                                  1               604        710   \n",
       "\n",
       "                Discharged Deaths  \n",
       "States/UTs                         \n",
       "Andhra Pradesh        5169    138  \n",
       "Assam                 1560    355  \n",
       "Bihar                 2467     29  \n",
       "Goa                   2295     10  \n",
       "Gujarat                108      5  \n",
       "Jammu & Kashmir         NR     NR  \n",
       "Karnataka             6569     26  \n",
       "Kerala                4799     67  \n",
       "Madhya Pradesh         452      9  \n",
       "Maharashtra           7066    169  \n",
       "Nagaland                NR     NR  \n",
       "Orissa                 712      3  \n",
       "Punjab                  NR     NR  \n",
       "Rajasthan             2347      3  \n",
       "Tamil Nadu              NR     NR  \n",
       "Uttar Pradesh         1332     24  \n",
       "West Bengal             NR     NR  \n",
       "Delhi                  640      5  "
      ]
     },
     "execution_count": 3,
     "metadata": {},
     "output_type": "execute_result"
    }
   ],
   "source": [
    "# State-Wise data of year 1995\n",
    "\n",
    "state_1995 = pd.read_excel(\"Hospital Patient data 1995.xlsx\",index_col='States/UTs')\n",
    "state_1995a = pd.read_excel(\"Hospital Patient data 1995.xlsx\")\n",
    "state_1995"
   ]
  },
  {
   "cell_type": "code",
   "execution_count": 4,
   "id": "3bbfe0d2",
   "metadata": {},
   "outputs": [
    {
     "data": {
      "text/html": [
       "<div>\n",
       "<style scoped>\n",
       "    .dataframe tbody tr th:only-of-type {\n",
       "        vertical-align: middle;\n",
       "    }\n",
       "\n",
       "    .dataframe tbody tr th {\n",
       "        vertical-align: top;\n",
       "    }\n",
       "\n",
       "    .dataframe thead th {\n",
       "        text-align: right;\n",
       "    }\n",
       "</style>\n",
       "<table border=\"1\" class=\"dataframe\">\n",
       "  <thead>\n",
       "    <tr style=\"text-align: right;\">\n",
       "      <th></th>\n",
       "      <th>No. of Mental Hospitals</th>\n",
       "      <th>Total No. of Beds</th>\n",
       "      <th>Admissions</th>\n",
       "      <th>Discharged</th>\n",
       "      <th>Deaths</th>\n",
       "    </tr>\n",
       "    <tr>\n",
       "      <th>States/UTs</th>\n",
       "      <th></th>\n",
       "      <th></th>\n",
       "      <th></th>\n",
       "      <th></th>\n",
       "      <th></th>\n",
       "    </tr>\n",
       "  </thead>\n",
       "  <tbody>\n",
       "    <tr>\n",
       "      <th>Andhra Pradesh</th>\n",
       "      <td>2</td>\n",
       "      <td>900</td>\n",
       "      <td>2234</td>\n",
       "      <td>2392</td>\n",
       "      <td>9</td>\n",
       "    </tr>\n",
       "    <tr>\n",
       "      <th>Assam</th>\n",
       "      <td>1</td>\n",
       "      <td>350</td>\n",
       "      <td>1470</td>\n",
       "      <td>1500</td>\n",
       "      <td>10</td>\n",
       "    </tr>\n",
       "    <tr>\n",
       "      <th>Bihar</th>\n",
       "      <td>3</td>\n",
       "      <td>1493</td>\n",
       "      <td>3291</td>\n",
       "      <td>3329</td>\n",
       "      <td>42</td>\n",
       "    </tr>\n",
       "    <tr>\n",
       "      <th>Goa</th>\n",
       "      <td>1</td>\n",
       "      <td>278</td>\n",
       "      <td>1900</td>\n",
       "      <td>1910</td>\n",
       "      <td>10</td>\n",
       "    </tr>\n",
       "    <tr>\n",
       "      <th>Gujarat</th>\n",
       "      <td>6</td>\n",
       "      <td>842</td>\n",
       "      <td>267</td>\n",
       "      <td>234</td>\n",
       "      <td>9</td>\n",
       "    </tr>\n",
       "    <tr>\n",
       "      <th>Jammu &amp; Kashmir</th>\n",
       "      <td>2</td>\n",
       "      <td>NR</td>\n",
       "      <td>NR</td>\n",
       "      <td>NR</td>\n",
       "      <td>NR</td>\n",
       "    </tr>\n",
       "    <tr>\n",
       "      <th>Karnataka</th>\n",
       "      <td>2</td>\n",
       "      <td>1180</td>\n",
       "      <td>2044</td>\n",
       "      <td>2034</td>\n",
       "      <td>6</td>\n",
       "    </tr>\n",
       "    <tr>\n",
       "      <th>Kerala</th>\n",
       "      <td>3</td>\n",
       "      <td>1342</td>\n",
       "      <td>4125</td>\n",
       "      <td>6269</td>\n",
       "      <td>39</td>\n",
       "    </tr>\n",
       "    <tr>\n",
       "      <th>Madhya Pradesh</th>\n",
       "      <td>2</td>\n",
       "      <td>NR</td>\n",
       "      <td>NR</td>\n",
       "      <td>NR</td>\n",
       "      <td>NR</td>\n",
       "    </tr>\n",
       "    <tr>\n",
       "      <th>Maharashtra</th>\n",
       "      <td>5</td>\n",
       "      <td>6005</td>\n",
       "      <td>6505</td>\n",
       "      <td>6498</td>\n",
       "      <td>142</td>\n",
       "    </tr>\n",
       "    <tr>\n",
       "      <th>Nagaland</th>\n",
       "      <td>1</td>\n",
       "      <td>NR</td>\n",
       "      <td>NR</td>\n",
       "      <td>NR</td>\n",
       "      <td>NR</td>\n",
       "    </tr>\n",
       "    <tr>\n",
       "      <th>Orissa</th>\n",
       "      <td>1</td>\n",
       "      <td>60</td>\n",
       "      <td>886</td>\n",
       "      <td>834</td>\n",
       "      <td>3</td>\n",
       "    </tr>\n",
       "    <tr>\n",
       "      <th>Punjab</th>\n",
       "      <td>1</td>\n",
       "      <td>811</td>\n",
       "      <td>170</td>\n",
       "      <td>196</td>\n",
       "      <td>19</td>\n",
       "    </tr>\n",
       "    <tr>\n",
       "      <th>Rajasthan</th>\n",
       "      <td>2</td>\n",
       "      <td>410</td>\n",
       "      <td>2323</td>\n",
       "      <td>2662</td>\n",
       "      <td>7</td>\n",
       "    </tr>\n",
       "    <tr>\n",
       "      <th>Tamil Nadu</th>\n",
       "      <td>1</td>\n",
       "      <td>NR</td>\n",
       "      <td>NR</td>\n",
       "      <td>NR</td>\n",
       "      <td>NR</td>\n",
       "    </tr>\n",
       "    <tr>\n",
       "      <th>Uttar Pradesh</th>\n",
       "      <td>4</td>\n",
       "      <td>1499</td>\n",
       "      <td>1338</td>\n",
       "      <td>1307</td>\n",
       "      <td>12</td>\n",
       "    </tr>\n",
       "    <tr>\n",
       "      <th>West Bengal</th>\n",
       "      <td>7</td>\n",
       "      <td>NR</td>\n",
       "      <td>NR</td>\n",
       "      <td>NR</td>\n",
       "      <td>NR</td>\n",
       "    </tr>\n",
       "    <tr>\n",
       "      <th>Delhi</th>\n",
       "      <td>1</td>\n",
       "      <td>578</td>\n",
       "      <td>1169</td>\n",
       "      <td>1198</td>\n",
       "      <td>2</td>\n",
       "    </tr>\n",
       "  </tbody>\n",
       "</table>\n",
       "</div>"
      ],
      "text/plain": [
       "                 No. of Mental Hospitals Total No. of Beds Admissions  \\\n",
       "States/UTs                                                              \n",
       "Andhra Pradesh                         2               900       2234   \n",
       "Assam                                  1               350       1470   \n",
       "Bihar                                  3              1493       3291   \n",
       "Goa                                    1               278       1900   \n",
       "Gujarat                                6               842        267   \n",
       "Jammu & Kashmir                        2                NR         NR   \n",
       "Karnataka                              2              1180       2044   \n",
       "Kerala                                 3              1342       4125   \n",
       "Madhya Pradesh                         2                NR         NR   \n",
       "Maharashtra                            5              6005       6505   \n",
       "Nagaland                               1                NR         NR   \n",
       "Orissa                                 1                60        886   \n",
       "Punjab                                 1               811        170   \n",
       "Rajasthan                              2               410       2323   \n",
       "Tamil Nadu                             1                NR         NR   \n",
       "Uttar Pradesh                          4              1499       1338   \n",
       "West Bengal                            7                NR         NR   \n",
       "Delhi                                  1               578       1169   \n",
       "\n",
       "                Discharged Deaths  \n",
       "States/UTs                         \n",
       "Andhra Pradesh        2392      9  \n",
       "Assam                 1500     10  \n",
       "Bihar                 3329     42  \n",
       "Goa                   1910     10  \n",
       "Gujarat                234      9  \n",
       "Jammu & Kashmir         NR     NR  \n",
       "Karnataka             2034      6  \n",
       "Kerala                6269     39  \n",
       "Madhya Pradesh          NR     NR  \n",
       "Maharashtra           6498    142  \n",
       "Nagaland                NR     NR  \n",
       "Orissa                 834      3  \n",
       "Punjab                 196     19  \n",
       "Rajasthan             2662      7  \n",
       "Tamil Nadu              NR     NR  \n",
       "Uttar Pradesh         1307     12  \n",
       "West Bengal             NR     NR  \n",
       "Delhi                 1198      2  "
      ]
     },
     "execution_count": 4,
     "metadata": {},
     "output_type": "execute_result"
    }
   ],
   "source": [
    "# State-Wise data of year 1996\n",
    "\n",
    "state_1996 = pd.read_excel('Hospital Patient data 1996.xlsx',index_col='States/UTs')\n",
    "state_1996a = pd.read_excel('Hospital Patient data 1996.xlsx')\n",
    "state_1996"
   ]
  },
  {
   "cell_type": "code",
   "execution_count": 5,
   "id": "15aa6df5",
   "metadata": {},
   "outputs": [
    {
     "data": {
      "text/html": [
       "<div>\n",
       "<style scoped>\n",
       "    .dataframe tbody tr th:only-of-type {\n",
       "        vertical-align: middle;\n",
       "    }\n",
       "\n",
       "    .dataframe tbody tr th {\n",
       "        vertical-align: top;\n",
       "    }\n",
       "\n",
       "    .dataframe thead th {\n",
       "        text-align: right;\n",
       "    }\n",
       "</style>\n",
       "<table border=\"1\" class=\"dataframe\">\n",
       "  <thead>\n",
       "    <tr style=\"text-align: right;\">\n",
       "      <th></th>\n",
       "      <th>No. of Mental Hospitals</th>\n",
       "      <th>Total No. of Beds</th>\n",
       "      <th>Admissions</th>\n",
       "      <th>Discharged</th>\n",
       "      <th>Deaths</th>\n",
       "    </tr>\n",
       "    <tr>\n",
       "      <th>States/UTs</th>\n",
       "      <th></th>\n",
       "      <th></th>\n",
       "      <th></th>\n",
       "      <th></th>\n",
       "      <th></th>\n",
       "    </tr>\n",
       "  </thead>\n",
       "  <tbody>\n",
       "    <tr>\n",
       "      <th>Andhra Pradesh</th>\n",
       "      <td>2</td>\n",
       "      <td>900</td>\n",
       "      <td>5846</td>\n",
       "      <td>5760</td>\n",
       "      <td>15</td>\n",
       "    </tr>\n",
       "    <tr>\n",
       "      <th>Assam</th>\n",
       "      <td>1</td>\n",
       "      <td>350</td>\n",
       "      <td>NR</td>\n",
       "      <td>NR</td>\n",
       "      <td>NR</td>\n",
       "    </tr>\n",
       "    <tr>\n",
       "      <th>Bihar</th>\n",
       "      <td>3</td>\n",
       "      <td>1493</td>\n",
       "      <td>1194</td>\n",
       "      <td>1327</td>\n",
       "      <td>24</td>\n",
       "    </tr>\n",
       "    <tr>\n",
       "      <th>Goa</th>\n",
       "      <td>1</td>\n",
       "      <td>278</td>\n",
       "      <td>2040</td>\n",
       "      <td>2064</td>\n",
       "      <td>5</td>\n",
       "    </tr>\n",
       "    <tr>\n",
       "      <th>Gujarat</th>\n",
       "      <td>6</td>\n",
       "      <td>842</td>\n",
       "      <td>164</td>\n",
       "      <td>148</td>\n",
       "      <td>5</td>\n",
       "    </tr>\n",
       "    <tr>\n",
       "      <th>Jammu &amp; Kashmir</th>\n",
       "      <td>2</td>\n",
       "      <td>175</td>\n",
       "      <td>1480</td>\n",
       "      <td>1369</td>\n",
       "      <td>5</td>\n",
       "    </tr>\n",
       "    <tr>\n",
       "      <th>Karnataka</th>\n",
       "      <td>2</td>\n",
       "      <td>1180</td>\n",
       "      <td>6653</td>\n",
       "      <td>6643</td>\n",
       "      <td>24</td>\n",
       "    </tr>\n",
       "    <tr>\n",
       "      <th>Kerala</th>\n",
       "      <td>3</td>\n",
       "      <td>1342</td>\n",
       "      <td>1378</td>\n",
       "      <td>3671</td>\n",
       "      <td>19</td>\n",
       "    </tr>\n",
       "    <tr>\n",
       "      <th>Madhya Pradesh</th>\n",
       "      <td>2</td>\n",
       "      <td>370</td>\n",
       "      <td>NR</td>\n",
       "      <td>NR</td>\n",
       "      <td>NR</td>\n",
       "    </tr>\n",
       "    <tr>\n",
       "      <th>Maharashtra</th>\n",
       "      <td>5</td>\n",
       "      <td>6005</td>\n",
       "      <td>898</td>\n",
       "      <td>1170</td>\n",
       "      <td>40</td>\n",
       "    </tr>\n",
       "    <tr>\n",
       "      <th>Nagaland</th>\n",
       "      <td>1</td>\n",
       "      <td>25</td>\n",
       "      <td>NR</td>\n",
       "      <td>NR</td>\n",
       "      <td>NR</td>\n",
       "    </tr>\n",
       "    <tr>\n",
       "      <th>Orissa</th>\n",
       "      <td>1</td>\n",
       "      <td>60</td>\n",
       "      <td>1097</td>\n",
       "      <td>1044</td>\n",
       "      <td>4</td>\n",
       "    </tr>\n",
       "    <tr>\n",
       "      <th>Punjab</th>\n",
       "      <td>1</td>\n",
       "      <td>811</td>\n",
       "      <td>71</td>\n",
       "      <td>43</td>\n",
       "      <td>17</td>\n",
       "    </tr>\n",
       "    <tr>\n",
       "      <th>Rajasthan</th>\n",
       "      <td>2</td>\n",
       "      <td>415</td>\n",
       "      <td>6533</td>\n",
       "      <td>5777</td>\n",
       "      <td>5</td>\n",
       "    </tr>\n",
       "    <tr>\n",
       "      <th>Tamil Nadu</th>\n",
       "      <td>1</td>\n",
       "      <td>1800</td>\n",
       "      <td>NR</td>\n",
       "      <td>NR</td>\n",
       "      <td>NR</td>\n",
       "    </tr>\n",
       "    <tr>\n",
       "      <th>Uttar Pradesh</th>\n",
       "      <td>4</td>\n",
       "      <td>1499</td>\n",
       "      <td>1391</td>\n",
       "      <td>1357</td>\n",
       "      <td>2</td>\n",
       "    </tr>\n",
       "    <tr>\n",
       "      <th>West Bengal</th>\n",
       "      <td>7</td>\n",
       "      <td>1416</td>\n",
       "      <td>157</td>\n",
       "      <td>157</td>\n",
       "      <td>20</td>\n",
       "    </tr>\n",
       "    <tr>\n",
       "      <th>Delhi</th>\n",
       "      <td>1</td>\n",
       "      <td>330</td>\n",
       "      <td>840</td>\n",
       "      <td>802</td>\n",
       "      <td>1</td>\n",
       "    </tr>\n",
       "  </tbody>\n",
       "</table>\n",
       "</div>"
      ],
      "text/plain": [
       "                 No. of Mental Hospitals  Total No. of Beds Admissions  \\\n",
       "States/UTs                                                               \n",
       "Andhra Pradesh                         2                900       5846   \n",
       "Assam                                  1                350         NR   \n",
       "Bihar                                  3               1493       1194   \n",
       "Goa                                    1                278       2040   \n",
       "Gujarat                                6                842        164   \n",
       "Jammu & Kashmir                        2                175       1480   \n",
       "Karnataka                              2               1180       6653   \n",
       "Kerala                                 3               1342       1378   \n",
       "Madhya Pradesh                         2                370         NR   \n",
       "Maharashtra                            5               6005        898   \n",
       "Nagaland                               1                 25         NR   \n",
       "Orissa                                 1                 60       1097   \n",
       "Punjab                                 1                811         71   \n",
       "Rajasthan                              2                415       6533   \n",
       "Tamil Nadu                             1               1800         NR   \n",
       "Uttar Pradesh                          4               1499       1391   \n",
       "West Bengal                            7               1416        157   \n",
       "Delhi                                  1                330        840   \n",
       "\n",
       "                Discharged Deaths  \n",
       "States/UTs                         \n",
       "Andhra Pradesh        5760     15  \n",
       "Assam                   NR     NR  \n",
       "Bihar                 1327     24  \n",
       "Goa                   2064      5  \n",
       "Gujarat                148      5  \n",
       "Jammu & Kashmir       1369      5  \n",
       "Karnataka             6643     24  \n",
       "Kerala                3671     19  \n",
       "Madhya Pradesh          NR     NR  \n",
       "Maharashtra           1170     40  \n",
       "Nagaland                NR     NR  \n",
       "Orissa                1044      4  \n",
       "Punjab                  43     17  \n",
       "Rajasthan             5777      5  \n",
       "Tamil Nadu              NR     NR  \n",
       "Uttar Pradesh         1357      2  \n",
       "West Bengal            157     20  \n",
       "Delhi                  802      1  "
      ]
     },
     "execution_count": 5,
     "metadata": {},
     "output_type": "execute_result"
    }
   ],
   "source": [
    "# State-Wise data of year 1997\n",
    "\n",
    "state_1997 = pd.read_excel('Hospital Patient data 1997.xlsx',index_col='States/UTs')\n",
    "state_1997a = pd.read_excel('Hospital Patient data 1997.xlsx')\n",
    "state_1997"
   ]
  },
  {
   "cell_type": "markdown",
   "id": "e13f6d6c",
   "metadata": {},
   "source": [
    "# ~~~~ ~~~~ Descriptive Analysis"
   ]
  },
  {
   "cell_type": "code",
   "execution_count": 6,
   "id": "78719c4b",
   "metadata": {},
   "outputs": [
    {
     "name": "stdout",
     "output_type": "stream",
     "text": [
      "<class 'pandas.core.frame.DataFrame'> (18, 5) Index(['No. of Mental Hospitals', 'Total No. of Beds', 'Admissions',\n",
      "       'Discharged', 'Deaths'],\n",
      "      dtype='object')\n",
      "<class 'pandas.core.frame.DataFrame'> (18, 5) Index(['No. of Mental Hospitals', 'Total No. of Beds', 'Admissions',\n",
      "       'Discharged', 'Deaths'],\n",
      "      dtype='object')\n",
      "<class 'pandas.core.frame.DataFrame'> (18, 5) Index(['No. of Mental Hospitals', 'Total No. of Beds', 'Admissions',\n",
      "       'Discharged', 'Deaths'],\n",
      "      dtype='object')\n",
      " \n",
      "       No. of Mental Hospitals\n",
      "count                18.000000\n",
      "mean                  2.500000\n",
      "std                   1.855041\n",
      "min                   1.000000\n",
      "25%                   1.000000\n",
      "50%                   2.000000\n",
      "75%                   3.000000\n",
      "max                   7.000000\n",
      "       No. of Mental Hospitals\n",
      "count                18.000000\n",
      "mean                  2.500000\n",
      "std                   1.855041\n",
      "min                   1.000000\n",
      "25%                   1.000000\n",
      "50%                   2.000000\n",
      "75%                   3.000000\n",
      "max                   7.000000\n",
      "       No. of Mental Hospitals  Total No. of Beds\n",
      "count                18.000000          18.000000\n",
      "mean                  2.500000        1071.722222\n",
      "std                   1.855041        1353.193295\n",
      "min                   1.000000          25.000000\n",
      "25%                   1.000000         335.000000\n",
      "50%                   2.000000         826.500000\n",
      "75%                   3.000000        1397.500000\n",
      "max                   7.000000        6005.000000\n"
     ]
    }
   ],
   "source": [
    "# Checking the datatype, dimensions and column names to get more information about our dataset.\n",
    "\n",
    "print(type(state_1995),state_1995.shape,state_1995.columns)\n",
    "print(type(state_1996),state_1996.shape,state_1996.columns)\n",
    "print(type(state_1997),state_1997.shape,state_1997.columns)\n",
    "print(\" \")\n",
    "print(state_1995.describe())\n",
    "print(state_1996.describe())\n",
    "print(state_1997.describe())"
   ]
  },
  {
   "cell_type": "markdown",
   "id": "99b80a80",
   "metadata": {},
   "source": [
    "**INTERPRETATION:**\n",
    "\n",
    "The describe() function shows the measures of central tendency along with some more statistical terms such as quartiles, minimum value, etc.\n",
    "But, we're getting information only for particular columns in all 3 files. **Let us examine the reason behind that.**"
   ]
  },
  {
   "cell_type": "code",
   "execution_count": 7,
   "id": "ee26979c",
   "metadata": {},
   "outputs": [
    {
     "name": "stdout",
     "output_type": "stream",
     "text": [
      "<class 'pandas.core.frame.DataFrame'>\n",
      "Index: 18 entries, Andhra Pradesh to Delhi\n",
      "Data columns (total 5 columns):\n",
      " #   Column                   Non-Null Count  Dtype \n",
      "---  ------                   --------------  ----- \n",
      " 0   No. of Mental Hospitals  18 non-null     int64 \n",
      " 1   Total No. of Beds        18 non-null     object\n",
      " 2   Admissions               18 non-null     object\n",
      " 3   Discharged               18 non-null     object\n",
      " 4   Deaths                   18 non-null     object\n",
      "dtypes: int64(1), object(4)\n",
      "memory usage: 864.0+ bytes\n",
      "None\n"
     ]
    }
   ],
   "source": [
    "print(state_1995.info())"
   ]
  },
  {
   "cell_type": "code",
   "execution_count": 8,
   "id": "ed11a247",
   "metadata": {},
   "outputs": [
    {
     "name": "stdout",
     "output_type": "stream",
     "text": [
      "<class 'pandas.core.frame.DataFrame'>\n",
      "Index: 18 entries, Andhra Pradesh to Delhi\n",
      "Data columns (total 5 columns):\n",
      " #   Column                   Non-Null Count  Dtype \n",
      "---  ------                   --------------  ----- \n",
      " 0   No. of Mental Hospitals  18 non-null     int64 \n",
      " 1   Total No. of Beds        18 non-null     object\n",
      " 2   Admissions               18 non-null     object\n",
      " 3   Discharged               18 non-null     object\n",
      " 4   Deaths                   18 non-null     object\n",
      "dtypes: int64(1), object(4)\n",
      "memory usage: 864.0+ bytes\n",
      "None\n"
     ]
    }
   ],
   "source": [
    "print(state_1996.info())"
   ]
  },
  {
   "cell_type": "code",
   "execution_count": 9,
   "id": "9cce792e",
   "metadata": {},
   "outputs": [
    {
     "name": "stdout",
     "output_type": "stream",
     "text": [
      "<class 'pandas.core.frame.DataFrame'>\n",
      "Index: 18 entries, Andhra Pradesh to Delhi\n",
      "Data columns (total 5 columns):\n",
      " #   Column                   Non-Null Count  Dtype \n",
      "---  ------                   --------------  ----- \n",
      " 0   No. of Mental Hospitals  18 non-null     int64 \n",
      " 1   Total No. of Beds        18 non-null     int64 \n",
      " 2   Admissions               18 non-null     object\n",
      " 3   Discharged               18 non-null     object\n",
      " 4   Deaths                   18 non-null     object\n",
      "dtypes: int64(2), object(3)\n",
      "memory usage: 864.0+ bytes\n",
      "None\n"
     ]
    }
   ],
   "source": [
    "print(state_1997.info())"
   ]
  },
  {
   "cell_type": "markdown",
   "id": "5159635e",
   "metadata": {},
   "source": [
    "**INTERPRETATION:**\n",
    "1. By using info() function we're able to check datatype of individual columns. \n",
    "2. It can be clearly seen that only one column in 1995,1996 datasets is of integer types and only 2 columns in 1997 dataset are of integer type.\n",
    "3. **That was the reason of no getting information for all the columns using describe() function.**"
   ]
  },
  {
   "cell_type": "markdown",
   "id": "8d625e70",
   "metadata": {},
   "source": [
    "**CHECKING THE MISSING VALUES IN ALL 3 DATASETS.**"
   ]
  },
  {
   "cell_type": "code",
   "execution_count": 10,
   "id": "c1e0accf",
   "metadata": {},
   "outputs": [
    {
     "data": {
      "text/plain": [
       "No. of Mental Hospitals    0\n",
       "Total No. of Beds          0\n",
       "Admissions                 0\n",
       "Discharged                 0\n",
       "Deaths                     0\n",
       "dtype: int64"
      ]
     },
     "execution_count": 10,
     "metadata": {},
     "output_type": "execute_result"
    }
   ],
   "source": [
    "state_1995.isnull().sum()"
   ]
  },
  {
   "cell_type": "code",
   "execution_count": 11,
   "id": "e8608ed2",
   "metadata": {},
   "outputs": [
    {
     "data": {
      "text/plain": [
       "No. of Mental Hospitals    0\n",
       "Total No. of Beds          0\n",
       "Admissions                 0\n",
       "Discharged                 0\n",
       "Deaths                     0\n",
       "dtype: int64"
      ]
     },
     "execution_count": 11,
     "metadata": {},
     "output_type": "execute_result"
    }
   ],
   "source": [
    "state_1996.isnull().sum()"
   ]
  },
  {
   "cell_type": "code",
   "execution_count": 12,
   "id": "e2cc4d6a",
   "metadata": {},
   "outputs": [
    {
     "data": {
      "text/plain": [
       "No. of Mental Hospitals    0\n",
       "Total No. of Beds          0\n",
       "Admissions                 0\n",
       "Discharged                 0\n",
       "Deaths                     0\n",
       "dtype: int64"
      ]
     },
     "execution_count": 12,
     "metadata": {},
     "output_type": "execute_result"
    }
   ],
   "source": [
    "state_1997.isnull().sum()"
   ]
  },
  {
   "cell_type": "markdown",
   "id": "9614f53d",
   "metadata": {},
   "source": [
    "**INTERPRETATION:**\n",
    "\n",
    "**There doesn't exist any missing values in any of the columns, but it can be seen that there are 'NR' values. So, we'll replace them with zero.**"
   ]
  },
  {
   "cell_type": "markdown",
   "id": "67ad2d8b",
   "metadata": {},
   "source": [
    "# ~~~~ ~~~~ DATA CLEANING"
   ]
  },
  {
   "cell_type": "code",
   "execution_count": 13,
   "id": "35ed0d9b",
   "metadata": {},
   "outputs": [
    {
     "data": {
      "text/html": [
       "<div>\n",
       "<style scoped>\n",
       "    .dataframe tbody tr th:only-of-type {\n",
       "        vertical-align: middle;\n",
       "    }\n",
       "\n",
       "    .dataframe tbody tr th {\n",
       "        vertical-align: top;\n",
       "    }\n",
       "\n",
       "    .dataframe thead th {\n",
       "        text-align: right;\n",
       "    }\n",
       "</style>\n",
       "<table border=\"1\" class=\"dataframe\">\n",
       "  <thead>\n",
       "    <tr style=\"text-align: right;\">\n",
       "      <th></th>\n",
       "      <th>No. of Mental Hospitals</th>\n",
       "      <th>Total No. of Beds</th>\n",
       "      <th>Admissions</th>\n",
       "      <th>Discharged</th>\n",
       "      <th>Deaths</th>\n",
       "    </tr>\n",
       "    <tr>\n",
       "      <th>States/UTs</th>\n",
       "      <th></th>\n",
       "      <th></th>\n",
       "      <th></th>\n",
       "      <th></th>\n",
       "      <th></th>\n",
       "    </tr>\n",
       "  </thead>\n",
       "  <tbody>\n",
       "    <tr>\n",
       "      <th>Andhra Pradesh</th>\n",
       "      <td>2</td>\n",
       "      <td>900</td>\n",
       "      <td>5307</td>\n",
       "      <td>5169</td>\n",
       "      <td>138</td>\n",
       "    </tr>\n",
       "    <tr>\n",
       "      <th>Assam</th>\n",
       "      <td>1</td>\n",
       "      <td>900</td>\n",
       "      <td>1915</td>\n",
       "      <td>1560</td>\n",
       "      <td>355</td>\n",
       "    </tr>\n",
       "    <tr>\n",
       "      <th>Bihar</th>\n",
       "      <td>3</td>\n",
       "      <td>1657</td>\n",
       "      <td>2347</td>\n",
       "      <td>2467</td>\n",
       "      <td>29</td>\n",
       "    </tr>\n",
       "    <tr>\n",
       "      <th>Goa</th>\n",
       "      <td>1</td>\n",
       "      <td>278</td>\n",
       "      <td>2300</td>\n",
       "      <td>2295</td>\n",
       "      <td>10</td>\n",
       "    </tr>\n",
       "    <tr>\n",
       "      <th>Gujarat</th>\n",
       "      <td>6</td>\n",
       "      <td>842</td>\n",
       "      <td>130</td>\n",
       "      <td>108</td>\n",
       "      <td>5</td>\n",
       "    </tr>\n",
       "    <tr>\n",
       "      <th>Jammu &amp; Kashmir</th>\n",
       "      <td>2</td>\n",
       "      <td>0</td>\n",
       "      <td>0</td>\n",
       "      <td>0</td>\n",
       "      <td>0</td>\n",
       "    </tr>\n",
       "    <tr>\n",
       "      <th>Karnataka</th>\n",
       "      <td>2</td>\n",
       "      <td>1180</td>\n",
       "      <td>6280</td>\n",
       "      <td>6569</td>\n",
       "      <td>26</td>\n",
       "    </tr>\n",
       "    <tr>\n",
       "      <th>Kerala</th>\n",
       "      <td>3</td>\n",
       "      <td>1342</td>\n",
       "      <td>2387</td>\n",
       "      <td>4799</td>\n",
       "      <td>67</td>\n",
       "    </tr>\n",
       "    <tr>\n",
       "      <th>Madhya Pradesh</th>\n",
       "      <td>2</td>\n",
       "      <td>370</td>\n",
       "      <td>473</td>\n",
       "      <td>452</td>\n",
       "      <td>9</td>\n",
       "    </tr>\n",
       "    <tr>\n",
       "      <th>Maharashtra</th>\n",
       "      <td>5</td>\n",
       "      <td>6005</td>\n",
       "      <td>7338</td>\n",
       "      <td>7066</td>\n",
       "      <td>169</td>\n",
       "    </tr>\n",
       "    <tr>\n",
       "      <th>Nagaland</th>\n",
       "      <td>1</td>\n",
       "      <td>0</td>\n",
       "      <td>0</td>\n",
       "      <td>0</td>\n",
       "      <td>0</td>\n",
       "    </tr>\n",
       "    <tr>\n",
       "      <th>Orissa</th>\n",
       "      <td>1</td>\n",
       "      <td>60</td>\n",
       "      <td>755</td>\n",
       "      <td>712</td>\n",
       "      <td>3</td>\n",
       "    </tr>\n",
       "    <tr>\n",
       "      <th>Punjab</th>\n",
       "      <td>1</td>\n",
       "      <td>0</td>\n",
       "      <td>0</td>\n",
       "      <td>0</td>\n",
       "      <td>0</td>\n",
       "    </tr>\n",
       "    <tr>\n",
       "      <th>Rajasthan</th>\n",
       "      <td>2</td>\n",
       "      <td>410</td>\n",
       "      <td>1718</td>\n",
       "      <td>2347</td>\n",
       "      <td>3</td>\n",
       "    </tr>\n",
       "    <tr>\n",
       "      <th>Tamil Nadu</th>\n",
       "      <td>1</td>\n",
       "      <td>0</td>\n",
       "      <td>0</td>\n",
       "      <td>0</td>\n",
       "      <td>0</td>\n",
       "    </tr>\n",
       "    <tr>\n",
       "      <th>Uttar Pradesh</th>\n",
       "      <td>4</td>\n",
       "      <td>1499</td>\n",
       "      <td>1348</td>\n",
       "      <td>1332</td>\n",
       "      <td>24</td>\n",
       "    </tr>\n",
       "    <tr>\n",
       "      <th>West Bengal</th>\n",
       "      <td>7</td>\n",
       "      <td>0</td>\n",
       "      <td>0</td>\n",
       "      <td>0</td>\n",
       "      <td>0</td>\n",
       "    </tr>\n",
       "    <tr>\n",
       "      <th>Delhi</th>\n",
       "      <td>1</td>\n",
       "      <td>604</td>\n",
       "      <td>710</td>\n",
       "      <td>640</td>\n",
       "      <td>5</td>\n",
       "    </tr>\n",
       "  </tbody>\n",
       "</table>\n",
       "</div>"
      ],
      "text/plain": [
       "                 No. of Mental Hospitals  Total No. of Beds  Admissions  \\\n",
       "States/UTs                                                                \n",
       "Andhra Pradesh                         2                900        5307   \n",
       "Assam                                  1                900        1915   \n",
       "Bihar                                  3               1657        2347   \n",
       "Goa                                    1                278        2300   \n",
       "Gujarat                                6                842         130   \n",
       "Jammu & Kashmir                        2                  0           0   \n",
       "Karnataka                              2               1180        6280   \n",
       "Kerala                                 3               1342        2387   \n",
       "Madhya Pradesh                         2                370         473   \n",
       "Maharashtra                            5               6005        7338   \n",
       "Nagaland                               1                  0           0   \n",
       "Orissa                                 1                 60         755   \n",
       "Punjab                                 1                  0           0   \n",
       "Rajasthan                              2                410        1718   \n",
       "Tamil Nadu                             1                  0           0   \n",
       "Uttar Pradesh                          4               1499        1348   \n",
       "West Bengal                            7                  0           0   \n",
       "Delhi                                  1                604         710   \n",
       "\n",
       "                 Discharged  Deaths  \n",
       "States/UTs                           \n",
       "Andhra Pradesh         5169     138  \n",
       "Assam                  1560     355  \n",
       "Bihar                  2467      29  \n",
       "Goa                    2295      10  \n",
       "Gujarat                 108       5  \n",
       "Jammu & Kashmir           0       0  \n",
       "Karnataka              6569      26  \n",
       "Kerala                 4799      67  \n",
       "Madhya Pradesh          452       9  \n",
       "Maharashtra            7066     169  \n",
       "Nagaland                  0       0  \n",
       "Orissa                  712       3  \n",
       "Punjab                    0       0  \n",
       "Rajasthan              2347       3  \n",
       "Tamil Nadu                0       0  \n",
       "Uttar Pradesh          1332      24  \n",
       "West Bengal               0       0  \n",
       "Delhi                   640       5  "
      ]
     },
     "execution_count": 13,
     "metadata": {},
     "output_type": "execute_result"
    }
   ],
   "source": [
    "state_1995 = state_1995.replace('NR', 0)\n",
    "state_1995a = state_1995a.replace('NR', 0)\n",
    "state_1995"
   ]
  },
  {
   "cell_type": "code",
   "execution_count": 14,
   "id": "adc00d33",
   "metadata": {},
   "outputs": [
    {
     "data": {
      "text/html": [
       "<div>\n",
       "<style scoped>\n",
       "    .dataframe tbody tr th:only-of-type {\n",
       "        vertical-align: middle;\n",
       "    }\n",
       "\n",
       "    .dataframe tbody tr th {\n",
       "        vertical-align: top;\n",
       "    }\n",
       "\n",
       "    .dataframe thead th {\n",
       "        text-align: right;\n",
       "    }\n",
       "</style>\n",
       "<table border=\"1\" class=\"dataframe\">\n",
       "  <thead>\n",
       "    <tr style=\"text-align: right;\">\n",
       "      <th></th>\n",
       "      <th>No. of Mental Hospitals</th>\n",
       "      <th>Total No. of Beds</th>\n",
       "      <th>Admissions</th>\n",
       "      <th>Discharged</th>\n",
       "      <th>Deaths</th>\n",
       "    </tr>\n",
       "    <tr>\n",
       "      <th>States/UTs</th>\n",
       "      <th></th>\n",
       "      <th></th>\n",
       "      <th></th>\n",
       "      <th></th>\n",
       "      <th></th>\n",
       "    </tr>\n",
       "  </thead>\n",
       "  <tbody>\n",
       "    <tr>\n",
       "      <th>Andhra Pradesh</th>\n",
       "      <td>2</td>\n",
       "      <td>900</td>\n",
       "      <td>2234</td>\n",
       "      <td>2392</td>\n",
       "      <td>9</td>\n",
       "    </tr>\n",
       "    <tr>\n",
       "      <th>Assam</th>\n",
       "      <td>1</td>\n",
       "      <td>350</td>\n",
       "      <td>1470</td>\n",
       "      <td>1500</td>\n",
       "      <td>10</td>\n",
       "    </tr>\n",
       "    <tr>\n",
       "      <th>Bihar</th>\n",
       "      <td>3</td>\n",
       "      <td>1493</td>\n",
       "      <td>3291</td>\n",
       "      <td>3329</td>\n",
       "      <td>42</td>\n",
       "    </tr>\n",
       "    <tr>\n",
       "      <th>Goa</th>\n",
       "      <td>1</td>\n",
       "      <td>278</td>\n",
       "      <td>1900</td>\n",
       "      <td>1910</td>\n",
       "      <td>10</td>\n",
       "    </tr>\n",
       "    <tr>\n",
       "      <th>Gujarat</th>\n",
       "      <td>6</td>\n",
       "      <td>842</td>\n",
       "      <td>267</td>\n",
       "      <td>234</td>\n",
       "      <td>9</td>\n",
       "    </tr>\n",
       "    <tr>\n",
       "      <th>Jammu &amp; Kashmir</th>\n",
       "      <td>2</td>\n",
       "      <td>0</td>\n",
       "      <td>0</td>\n",
       "      <td>0</td>\n",
       "      <td>0</td>\n",
       "    </tr>\n",
       "    <tr>\n",
       "      <th>Karnataka</th>\n",
       "      <td>2</td>\n",
       "      <td>1180</td>\n",
       "      <td>2044</td>\n",
       "      <td>2034</td>\n",
       "      <td>6</td>\n",
       "    </tr>\n",
       "    <tr>\n",
       "      <th>Kerala</th>\n",
       "      <td>3</td>\n",
       "      <td>1342</td>\n",
       "      <td>4125</td>\n",
       "      <td>6269</td>\n",
       "      <td>39</td>\n",
       "    </tr>\n",
       "    <tr>\n",
       "      <th>Madhya Pradesh</th>\n",
       "      <td>2</td>\n",
       "      <td>0</td>\n",
       "      <td>0</td>\n",
       "      <td>0</td>\n",
       "      <td>0</td>\n",
       "    </tr>\n",
       "    <tr>\n",
       "      <th>Maharashtra</th>\n",
       "      <td>5</td>\n",
       "      <td>6005</td>\n",
       "      <td>6505</td>\n",
       "      <td>6498</td>\n",
       "      <td>142</td>\n",
       "    </tr>\n",
       "    <tr>\n",
       "      <th>Nagaland</th>\n",
       "      <td>1</td>\n",
       "      <td>0</td>\n",
       "      <td>0</td>\n",
       "      <td>0</td>\n",
       "      <td>0</td>\n",
       "    </tr>\n",
       "    <tr>\n",
       "      <th>Orissa</th>\n",
       "      <td>1</td>\n",
       "      <td>60</td>\n",
       "      <td>886</td>\n",
       "      <td>834</td>\n",
       "      <td>3</td>\n",
       "    </tr>\n",
       "    <tr>\n",
       "      <th>Punjab</th>\n",
       "      <td>1</td>\n",
       "      <td>811</td>\n",
       "      <td>170</td>\n",
       "      <td>196</td>\n",
       "      <td>19</td>\n",
       "    </tr>\n",
       "    <tr>\n",
       "      <th>Rajasthan</th>\n",
       "      <td>2</td>\n",
       "      <td>410</td>\n",
       "      <td>2323</td>\n",
       "      <td>2662</td>\n",
       "      <td>7</td>\n",
       "    </tr>\n",
       "    <tr>\n",
       "      <th>Tamil Nadu</th>\n",
       "      <td>1</td>\n",
       "      <td>0</td>\n",
       "      <td>0</td>\n",
       "      <td>0</td>\n",
       "      <td>0</td>\n",
       "    </tr>\n",
       "    <tr>\n",
       "      <th>Uttar Pradesh</th>\n",
       "      <td>4</td>\n",
       "      <td>1499</td>\n",
       "      <td>1338</td>\n",
       "      <td>1307</td>\n",
       "      <td>12</td>\n",
       "    </tr>\n",
       "    <tr>\n",
       "      <th>West Bengal</th>\n",
       "      <td>7</td>\n",
       "      <td>0</td>\n",
       "      <td>0</td>\n",
       "      <td>0</td>\n",
       "      <td>0</td>\n",
       "    </tr>\n",
       "    <tr>\n",
       "      <th>Delhi</th>\n",
       "      <td>1</td>\n",
       "      <td>578</td>\n",
       "      <td>1169</td>\n",
       "      <td>1198</td>\n",
       "      <td>2</td>\n",
       "    </tr>\n",
       "  </tbody>\n",
       "</table>\n",
       "</div>"
      ],
      "text/plain": [
       "                 No. of Mental Hospitals  Total No. of Beds  Admissions  \\\n",
       "States/UTs                                                                \n",
       "Andhra Pradesh                         2                900        2234   \n",
       "Assam                                  1                350        1470   \n",
       "Bihar                                  3               1493        3291   \n",
       "Goa                                    1                278        1900   \n",
       "Gujarat                                6                842         267   \n",
       "Jammu & Kashmir                        2                  0           0   \n",
       "Karnataka                              2               1180        2044   \n",
       "Kerala                                 3               1342        4125   \n",
       "Madhya Pradesh                         2                  0           0   \n",
       "Maharashtra                            5               6005        6505   \n",
       "Nagaland                               1                  0           0   \n",
       "Orissa                                 1                 60         886   \n",
       "Punjab                                 1                811         170   \n",
       "Rajasthan                              2                410        2323   \n",
       "Tamil Nadu                             1                  0           0   \n",
       "Uttar Pradesh                          4               1499        1338   \n",
       "West Bengal                            7                  0           0   \n",
       "Delhi                                  1                578        1169   \n",
       "\n",
       "                 Discharged  Deaths  \n",
       "States/UTs                           \n",
       "Andhra Pradesh         2392       9  \n",
       "Assam                  1500      10  \n",
       "Bihar                  3329      42  \n",
       "Goa                    1910      10  \n",
       "Gujarat                 234       9  \n",
       "Jammu & Kashmir           0       0  \n",
       "Karnataka              2034       6  \n",
       "Kerala                 6269      39  \n",
       "Madhya Pradesh            0       0  \n",
       "Maharashtra            6498     142  \n",
       "Nagaland                  0       0  \n",
       "Orissa                  834       3  \n",
       "Punjab                  196      19  \n",
       "Rajasthan              2662       7  \n",
       "Tamil Nadu                0       0  \n",
       "Uttar Pradesh          1307      12  \n",
       "West Bengal               0       0  \n",
       "Delhi                  1198       2  "
      ]
     },
     "execution_count": 14,
     "metadata": {},
     "output_type": "execute_result"
    }
   ],
   "source": [
    "state_1996 = state_1996.replace('NR', 0)\n",
    "state_1996a = state_1996a.replace('NR', 0)\n",
    "state_1996"
   ]
  },
  {
   "cell_type": "code",
   "execution_count": 15,
   "id": "cd90cedf",
   "metadata": {},
   "outputs": [
    {
     "data": {
      "text/html": [
       "<div>\n",
       "<style scoped>\n",
       "    .dataframe tbody tr th:only-of-type {\n",
       "        vertical-align: middle;\n",
       "    }\n",
       "\n",
       "    .dataframe tbody tr th {\n",
       "        vertical-align: top;\n",
       "    }\n",
       "\n",
       "    .dataframe thead th {\n",
       "        text-align: right;\n",
       "    }\n",
       "</style>\n",
       "<table border=\"1\" class=\"dataframe\">\n",
       "  <thead>\n",
       "    <tr style=\"text-align: right;\">\n",
       "      <th></th>\n",
       "      <th>No. of Mental Hospitals</th>\n",
       "      <th>Total No. of Beds</th>\n",
       "      <th>Admissions</th>\n",
       "      <th>Discharged</th>\n",
       "      <th>Deaths</th>\n",
       "    </tr>\n",
       "    <tr>\n",
       "      <th>States/UTs</th>\n",
       "      <th></th>\n",
       "      <th></th>\n",
       "      <th></th>\n",
       "      <th></th>\n",
       "      <th></th>\n",
       "    </tr>\n",
       "  </thead>\n",
       "  <tbody>\n",
       "    <tr>\n",
       "      <th>Andhra Pradesh</th>\n",
       "      <td>2</td>\n",
       "      <td>900</td>\n",
       "      <td>5846</td>\n",
       "      <td>5760</td>\n",
       "      <td>15</td>\n",
       "    </tr>\n",
       "    <tr>\n",
       "      <th>Assam</th>\n",
       "      <td>1</td>\n",
       "      <td>350</td>\n",
       "      <td>0</td>\n",
       "      <td>0</td>\n",
       "      <td>0</td>\n",
       "    </tr>\n",
       "    <tr>\n",
       "      <th>Bihar</th>\n",
       "      <td>3</td>\n",
       "      <td>1493</td>\n",
       "      <td>1194</td>\n",
       "      <td>1327</td>\n",
       "      <td>24</td>\n",
       "    </tr>\n",
       "    <tr>\n",
       "      <th>Goa</th>\n",
       "      <td>1</td>\n",
       "      <td>278</td>\n",
       "      <td>2040</td>\n",
       "      <td>2064</td>\n",
       "      <td>5</td>\n",
       "    </tr>\n",
       "    <tr>\n",
       "      <th>Gujarat</th>\n",
       "      <td>6</td>\n",
       "      <td>842</td>\n",
       "      <td>164</td>\n",
       "      <td>148</td>\n",
       "      <td>5</td>\n",
       "    </tr>\n",
       "    <tr>\n",
       "      <th>Jammu &amp; Kashmir</th>\n",
       "      <td>2</td>\n",
       "      <td>175</td>\n",
       "      <td>1480</td>\n",
       "      <td>1369</td>\n",
       "      <td>5</td>\n",
       "    </tr>\n",
       "    <tr>\n",
       "      <th>Karnataka</th>\n",
       "      <td>2</td>\n",
       "      <td>1180</td>\n",
       "      <td>6653</td>\n",
       "      <td>6643</td>\n",
       "      <td>24</td>\n",
       "    </tr>\n",
       "    <tr>\n",
       "      <th>Kerala</th>\n",
       "      <td>3</td>\n",
       "      <td>1342</td>\n",
       "      <td>1378</td>\n",
       "      <td>3671</td>\n",
       "      <td>19</td>\n",
       "    </tr>\n",
       "    <tr>\n",
       "      <th>Madhya Pradesh</th>\n",
       "      <td>2</td>\n",
       "      <td>370</td>\n",
       "      <td>0</td>\n",
       "      <td>0</td>\n",
       "      <td>0</td>\n",
       "    </tr>\n",
       "    <tr>\n",
       "      <th>Maharashtra</th>\n",
       "      <td>5</td>\n",
       "      <td>6005</td>\n",
       "      <td>898</td>\n",
       "      <td>1170</td>\n",
       "      <td>40</td>\n",
       "    </tr>\n",
       "    <tr>\n",
       "      <th>Nagaland</th>\n",
       "      <td>1</td>\n",
       "      <td>25</td>\n",
       "      <td>0</td>\n",
       "      <td>0</td>\n",
       "      <td>0</td>\n",
       "    </tr>\n",
       "    <tr>\n",
       "      <th>Orissa</th>\n",
       "      <td>1</td>\n",
       "      <td>60</td>\n",
       "      <td>1097</td>\n",
       "      <td>1044</td>\n",
       "      <td>4</td>\n",
       "    </tr>\n",
       "    <tr>\n",
       "      <th>Punjab</th>\n",
       "      <td>1</td>\n",
       "      <td>811</td>\n",
       "      <td>71</td>\n",
       "      <td>43</td>\n",
       "      <td>17</td>\n",
       "    </tr>\n",
       "    <tr>\n",
       "      <th>Rajasthan</th>\n",
       "      <td>2</td>\n",
       "      <td>415</td>\n",
       "      <td>6533</td>\n",
       "      <td>5777</td>\n",
       "      <td>5</td>\n",
       "    </tr>\n",
       "    <tr>\n",
       "      <th>Tamil Nadu</th>\n",
       "      <td>1</td>\n",
       "      <td>1800</td>\n",
       "      <td>0</td>\n",
       "      <td>0</td>\n",
       "      <td>0</td>\n",
       "    </tr>\n",
       "    <tr>\n",
       "      <th>Uttar Pradesh</th>\n",
       "      <td>4</td>\n",
       "      <td>1499</td>\n",
       "      <td>1391</td>\n",
       "      <td>1357</td>\n",
       "      <td>2</td>\n",
       "    </tr>\n",
       "    <tr>\n",
       "      <th>West Bengal</th>\n",
       "      <td>7</td>\n",
       "      <td>1416</td>\n",
       "      <td>157</td>\n",
       "      <td>157</td>\n",
       "      <td>20</td>\n",
       "    </tr>\n",
       "    <tr>\n",
       "      <th>Delhi</th>\n",
       "      <td>1</td>\n",
       "      <td>330</td>\n",
       "      <td>840</td>\n",
       "      <td>802</td>\n",
       "      <td>1</td>\n",
       "    </tr>\n",
       "  </tbody>\n",
       "</table>\n",
       "</div>"
      ],
      "text/plain": [
       "                 No. of Mental Hospitals  Total No. of Beds  Admissions  \\\n",
       "States/UTs                                                                \n",
       "Andhra Pradesh                         2                900        5846   \n",
       "Assam                                  1                350           0   \n",
       "Bihar                                  3               1493        1194   \n",
       "Goa                                    1                278        2040   \n",
       "Gujarat                                6                842         164   \n",
       "Jammu & Kashmir                        2                175        1480   \n",
       "Karnataka                              2               1180        6653   \n",
       "Kerala                                 3               1342        1378   \n",
       "Madhya Pradesh                         2                370           0   \n",
       "Maharashtra                            5               6005         898   \n",
       "Nagaland                               1                 25           0   \n",
       "Orissa                                 1                 60        1097   \n",
       "Punjab                                 1                811          71   \n",
       "Rajasthan                              2                415        6533   \n",
       "Tamil Nadu                             1               1800           0   \n",
       "Uttar Pradesh                          4               1499        1391   \n",
       "West Bengal                            7               1416         157   \n",
       "Delhi                                  1                330         840   \n",
       "\n",
       "                 Discharged  Deaths  \n",
       "States/UTs                           \n",
       "Andhra Pradesh         5760      15  \n",
       "Assam                     0       0  \n",
       "Bihar                  1327      24  \n",
       "Goa                    2064       5  \n",
       "Gujarat                 148       5  \n",
       "Jammu & Kashmir        1369       5  \n",
       "Karnataka              6643      24  \n",
       "Kerala                 3671      19  \n",
       "Madhya Pradesh            0       0  \n",
       "Maharashtra            1170      40  \n",
       "Nagaland                  0       0  \n",
       "Orissa                 1044       4  \n",
       "Punjab                   43      17  \n",
       "Rajasthan              5777       5  \n",
       "Tamil Nadu                0       0  \n",
       "Uttar Pradesh          1357       2  \n",
       "West Bengal             157      20  \n",
       "Delhi                   802       1  "
      ]
     },
     "execution_count": 15,
     "metadata": {},
     "output_type": "execute_result"
    }
   ],
   "source": [
    "state_1997 = state_1997.replace('NR', 0)\n",
    "state_1997a = state_1997a.replace('NR', 0)\n",
    "state_1997"
   ]
  },
  {
   "cell_type": "markdown",
   "id": "0977e361",
   "metadata": {},
   "source": [
    "**INTERPRETATION:**\n",
    "\n",
    "**'NR' values have been replaced by zero values in all 3 datasets.**"
   ]
  },
  {
   "cell_type": "markdown",
   "id": "2b8e3b9d",
   "metadata": {},
   "source": [
    "# ~~~~ ~~~~ EXPLORATORY DATA ANALYSIS (EDA)"
   ]
  },
  {
   "cell_type": "markdown",
   "id": "f2ec8d42",
   "metadata": {},
   "source": [
    "**CORRELATION MODEL**"
   ]
  },
  {
   "cell_type": "code",
   "execution_count": 16,
   "id": "999d6599",
   "metadata": {},
   "outputs": [
    {
     "data": {
      "text/html": [
       "<div>\n",
       "<style scoped>\n",
       "    .dataframe tbody tr th:only-of-type {\n",
       "        vertical-align: middle;\n",
       "    }\n",
       "\n",
       "    .dataframe tbody tr th {\n",
       "        vertical-align: top;\n",
       "    }\n",
       "\n",
       "    .dataframe thead th {\n",
       "        text-align: right;\n",
       "    }\n",
       "</style>\n",
       "<table border=\"1\" class=\"dataframe\">\n",
       "  <thead>\n",
       "    <tr style=\"text-align: right;\">\n",
       "      <th></th>\n",
       "      <th>No. of Mental Hospitals</th>\n",
       "      <th>Total No. of Beds</th>\n",
       "      <th>Admissions</th>\n",
       "      <th>Discharged</th>\n",
       "      <th>Deaths</th>\n",
       "    </tr>\n",
       "  </thead>\n",
       "  <tbody>\n",
       "    <tr>\n",
       "      <th>No. of Mental Hospitals</th>\n",
       "      <td>1.000000</td>\n",
       "      <td>0.398504</td>\n",
       "      <td>0.108950</td>\n",
       "      <td>0.115322</td>\n",
       "      <td>-0.043004</td>\n",
       "    </tr>\n",
       "    <tr>\n",
       "      <th>Total No. of Beds</th>\n",
       "      <td>0.398504</td>\n",
       "      <td>1.000000</td>\n",
       "      <td>0.741181</td>\n",
       "      <td>0.703444</td>\n",
       "      <td>0.429362</td>\n",
       "    </tr>\n",
       "    <tr>\n",
       "      <th>Admissions</th>\n",
       "      <td>0.108950</td>\n",
       "      <td>0.741181</td>\n",
       "      <td>1.000000</td>\n",
       "      <td>0.966902</td>\n",
       "      <td>0.447561</td>\n",
       "    </tr>\n",
       "    <tr>\n",
       "      <th>Discharged</th>\n",
       "      <td>0.115322</td>\n",
       "      <td>0.703444</td>\n",
       "      <td>0.966902</td>\n",
       "      <td>1.000000</td>\n",
       "      <td>0.391857</td>\n",
       "    </tr>\n",
       "    <tr>\n",
       "      <th>Deaths</th>\n",
       "      <td>-0.043004</td>\n",
       "      <td>0.429362</td>\n",
       "      <td>0.447561</td>\n",
       "      <td>0.391857</td>\n",
       "      <td>1.000000</td>\n",
       "    </tr>\n",
       "  </tbody>\n",
       "</table>\n",
       "</div>"
      ],
      "text/plain": [
       "                         No. of Mental Hospitals  Total No. of Beds  \\\n",
       "No. of Mental Hospitals                 1.000000           0.398504   \n",
       "Total No. of Beds                       0.398504           1.000000   \n",
       "Admissions                              0.108950           0.741181   \n",
       "Discharged                              0.115322           0.703444   \n",
       "Deaths                                 -0.043004           0.429362   \n",
       "\n",
       "                         Admissions  Discharged    Deaths  \n",
       "No. of Mental Hospitals    0.108950    0.115322 -0.043004  \n",
       "Total No. of Beds          0.741181    0.703444  0.429362  \n",
       "Admissions                 1.000000    0.966902  0.447561  \n",
       "Discharged                 0.966902    1.000000  0.391857  \n",
       "Deaths                     0.447561    0.391857  1.000000  "
      ]
     },
     "execution_count": 16,
     "metadata": {},
     "output_type": "execute_result"
    }
   ],
   "source": [
    "state_1995.corr()"
   ]
  },
  {
   "cell_type": "code",
   "execution_count": 17,
   "id": "1fa3ed9d",
   "metadata": {},
   "outputs": [
    {
     "data": {
      "text/html": [
       "<div>\n",
       "<style scoped>\n",
       "    .dataframe tbody tr th:only-of-type {\n",
       "        vertical-align: middle;\n",
       "    }\n",
       "\n",
       "    .dataframe tbody tr th {\n",
       "        vertical-align: top;\n",
       "    }\n",
       "\n",
       "    .dataframe thead th {\n",
       "        text-align: right;\n",
       "    }\n",
       "</style>\n",
       "<table border=\"1\" class=\"dataframe\">\n",
       "  <thead>\n",
       "    <tr style=\"text-align: right;\">\n",
       "      <th></th>\n",
       "      <th>No. of Mental Hospitals</th>\n",
       "      <th>Total No. of Beds</th>\n",
       "      <th>Admissions</th>\n",
       "      <th>Discharged</th>\n",
       "      <th>Deaths</th>\n",
       "    </tr>\n",
       "  </thead>\n",
       "  <tbody>\n",
       "    <tr>\n",
       "      <th>No. of Mental Hospitals</th>\n",
       "      <td>1.000000</td>\n",
       "      <td>0.393937</td>\n",
       "      <td>0.203716</td>\n",
       "      <td>0.187220</td>\n",
       "      <td>0.348366</td>\n",
       "    </tr>\n",
       "    <tr>\n",
       "      <th>Total No. of Beds</th>\n",
       "      <td>0.393937</td>\n",
       "      <td>1.000000</td>\n",
       "      <td>0.842809</td>\n",
       "      <td>0.752450</td>\n",
       "      <td>0.964343</td>\n",
       "    </tr>\n",
       "    <tr>\n",
       "      <th>Admissions</th>\n",
       "      <td>0.203716</td>\n",
       "      <td>0.842809</td>\n",
       "      <td>1.000000</td>\n",
       "      <td>0.972723</td>\n",
       "      <td>0.859155</td>\n",
       "    </tr>\n",
       "    <tr>\n",
       "      <th>Discharged</th>\n",
       "      <td>0.187220</td>\n",
       "      <td>0.752450</td>\n",
       "      <td>0.972723</td>\n",
       "      <td>1.000000</td>\n",
       "      <td>0.786633</td>\n",
       "    </tr>\n",
       "    <tr>\n",
       "      <th>Deaths</th>\n",
       "      <td>0.348366</td>\n",
       "      <td>0.964343</td>\n",
       "      <td>0.859155</td>\n",
       "      <td>0.786633</td>\n",
       "      <td>1.000000</td>\n",
       "    </tr>\n",
       "  </tbody>\n",
       "</table>\n",
       "</div>"
      ],
      "text/plain": [
       "                         No. of Mental Hospitals  Total No. of Beds  \\\n",
       "No. of Mental Hospitals                 1.000000           0.393937   \n",
       "Total No. of Beds                       0.393937           1.000000   \n",
       "Admissions                              0.203716           0.842809   \n",
       "Discharged                              0.187220           0.752450   \n",
       "Deaths                                  0.348366           0.964343   \n",
       "\n",
       "                         Admissions  Discharged    Deaths  \n",
       "No. of Mental Hospitals    0.203716    0.187220  0.348366  \n",
       "Total No. of Beds          0.842809    0.752450  0.964343  \n",
       "Admissions                 1.000000    0.972723  0.859155  \n",
       "Discharged                 0.972723    1.000000  0.786633  \n",
       "Deaths                     0.859155    0.786633  1.000000  "
      ]
     },
     "execution_count": 17,
     "metadata": {},
     "output_type": "execute_result"
    }
   ],
   "source": [
    "state_1996.corr()"
   ]
  },
  {
   "cell_type": "code",
   "execution_count": 18,
   "id": "2df47c20",
   "metadata": {},
   "outputs": [
    {
     "data": {
      "text/html": [
       "<div>\n",
       "<style scoped>\n",
       "    .dataframe tbody tr th:only-of-type {\n",
       "        vertical-align: middle;\n",
       "    }\n",
       "\n",
       "    .dataframe tbody tr th {\n",
       "        vertical-align: top;\n",
       "    }\n",
       "\n",
       "    .dataframe thead th {\n",
       "        text-align: right;\n",
       "    }\n",
       "</style>\n",
       "<table border=\"1\" class=\"dataframe\">\n",
       "  <thead>\n",
       "    <tr style=\"text-align: right;\">\n",
       "      <th></th>\n",
       "      <th>No. of Mental Hospitals</th>\n",
       "      <th>Total No. of Beds</th>\n",
       "      <th>Admissions</th>\n",
       "      <th>Discharged</th>\n",
       "      <th>Deaths</th>\n",
       "    </tr>\n",
       "  </thead>\n",
       "  <tbody>\n",
       "    <tr>\n",
       "      <th>No. of Mental Hospitals</th>\n",
       "      <td>1.000000</td>\n",
       "      <td>0.492022</td>\n",
       "      <td>-0.132673</td>\n",
       "      <td>-0.101046</td>\n",
       "      <td>0.462781</td>\n",
       "    </tr>\n",
       "    <tr>\n",
       "      <th>Total No. of Beds</th>\n",
       "      <td>0.492022</td>\n",
       "      <td>1.000000</td>\n",
       "      <td>-0.064715</td>\n",
       "      <td>-0.013198</td>\n",
       "      <td>0.753065</td>\n",
       "    </tr>\n",
       "    <tr>\n",
       "      <th>Admissions</th>\n",
       "      <td>-0.132673</td>\n",
       "      <td>-0.064715</td>\n",
       "      <td>1.000000</td>\n",
       "      <td>0.965860</td>\n",
       "      <td>0.214915</td>\n",
       "    </tr>\n",
       "    <tr>\n",
       "      <th>Discharged</th>\n",
       "      <td>-0.101046</td>\n",
       "      <td>-0.013198</td>\n",
       "      <td>0.965860</td>\n",
       "      <td>1.000000</td>\n",
       "      <td>0.300589</td>\n",
       "    </tr>\n",
       "    <tr>\n",
       "      <th>Deaths</th>\n",
       "      <td>0.462781</td>\n",
       "      <td>0.753065</td>\n",
       "      <td>0.214915</td>\n",
       "      <td>0.300589</td>\n",
       "      <td>1.000000</td>\n",
       "    </tr>\n",
       "  </tbody>\n",
       "</table>\n",
       "</div>"
      ],
      "text/plain": [
       "                         No. of Mental Hospitals  Total No. of Beds  \\\n",
       "No. of Mental Hospitals                 1.000000           0.492022   \n",
       "Total No. of Beds                       0.492022           1.000000   \n",
       "Admissions                             -0.132673          -0.064715   \n",
       "Discharged                             -0.101046          -0.013198   \n",
       "Deaths                                  0.462781           0.753065   \n",
       "\n",
       "                         Admissions  Discharged    Deaths  \n",
       "No. of Mental Hospitals   -0.132673   -0.101046  0.462781  \n",
       "Total No. of Beds         -0.064715   -0.013198  0.753065  \n",
       "Admissions                 1.000000    0.965860  0.214915  \n",
       "Discharged                 0.965860    1.000000  0.300589  \n",
       "Deaths                     0.214915    0.300589  1.000000  "
      ]
     },
     "execution_count": 18,
     "metadata": {},
     "output_type": "execute_result"
    }
   ],
   "source": [
    "state_1997.corr()"
   ]
  },
  {
   "cell_type": "markdown",
   "id": "163ddfe9",
   "metadata": {},
   "source": [
    "# ~~~~ ~~~~ Data Visualization "
   ]
  },
  {
   "cell_type": "markdown",
   "id": "49bcaebb",
   "metadata": {},
   "source": [
    "**CORRELATION MODEL**"
   ]
  },
  {
   "cell_type": "code",
   "execution_count": 19,
   "id": "b0835283",
   "metadata": {},
   "outputs": [
    {
     "data": {
      "text/plain": [
       "<AxesSubplot:>"
      ]
     },
     "execution_count": 19,
     "metadata": {},
     "output_type": "execute_result"
    },
    {
     "data": {
      "image/png": "[encoded data removed]",
      "text/plain": [
       "<Figure size 720x720 with 2 Axes>"
      ]
     },
     "metadata": {
      "needs_background": "light"
     },
     "output_type": "display_data"
    }
   ],
   "source": [
    "plt.figure(figsize=(10,10))\n",
    "sns.heatmap(state_1995a.corr(), annot=True)"
   ]
  },
  {
   "cell_type": "code",
   "execution_count": 20,
   "id": "125cb47d",
   "metadata": {},
   "outputs": [
    {
     "data": {
      "text/plain": [
       "<AxesSubplot:>"
      ]
     },
     "execution_count": 20,
     "metadata": {},
     "output_type": "execute_result"
    },
    {
     "data": {
      "image/png": "[encoded data removed]",
      "text/plain": [
       "<Figure size 720x720 with 2 Axes>"
      ]
     },
     "metadata": {
      "needs_background": "light"
     },
     "output_type": "display_data"
    }
   ],
   "source": [
    "plt.figure(figsize=(10,10))\n",
    "sns.heatmap(state_1996.corr(), annot=True)"
   ]
  },
  {
   "cell_type": "code",
   "execution_count": 21,
   "id": "f118eb00",
   "metadata": {},
   "outputs": [
    {
     "data": {
      "text/plain": [
       "<AxesSubplot:>"
      ]
     },
     "execution_count": 21,
     "metadata": {},
     "output_type": "execute_result"
    },
    {
     "data": {
      "image/png": "[encoded data removed]",
      "text/plain": [
       "<Figure size 720x720 with 2 Axes>"
      ]
     },
     "metadata": {
      "needs_background": "light"
     },
     "output_type": "display_data"
    }
   ],
   "source": [
    "plt.figure(figsize=(10,10))\n",
    "sns.heatmap(state_1997.corr(), annot=True)"
   ]
  },
  {
   "cell_type": "markdown",
   "id": "575c413e",
   "metadata": {},
   "source": [
    "**INTERPRETATION:**\n",
    "    \n",
    "1. In the correlation model we can see that, there exists strong degree of positive correlation between \"No. of patients admitted\" and \"No. of patients discharged\".\n",
    "2. Hence, we'll plot scatterplot between the two to check whether there exists linear relationship or not."
   ]
  },
  {
   "cell_type": "markdown",
   "id": "2666ead6",
   "metadata": {},
   "source": [
    "# ~~~ Scatterplot"
   ]
  },
  {
   "cell_type": "code",
   "execution_count": 22,
   "id": "dd067b2a",
   "metadata": {},
   "outputs": [
    {
     "data": {
      "text/plain": [
       "<AxesSubplot:xlabel='Admissions', ylabel='Discharged'>"
      ]
     },
     "execution_count": 22,
     "metadata": {},
     "output_type": "execute_result"
    },
    {
     "data": {
      "image/png": "[encoded data removed]",
      "text/plain": [
       "<Figure size 432x288 with 1 Axes>"
      ]
     },
     "metadata": {
      "needs_background": "light"
     },
     "output_type": "display_data"
    }
   ],
   "source": [
    "sns.scatterplot(data = state_1995,x = \"Admissions\",y = \"Discharged\")"
   ]
  },
  {
   "cell_type": "code",
   "execution_count": 23,
   "id": "be512377",
   "metadata": {},
   "outputs": [
    {
     "data": {
      "text/plain": [
       "<AxesSubplot:xlabel='Admissions', ylabel='Discharged'>"
      ]
     },
     "execution_count": 23,
     "metadata": {},
     "output_type": "execute_result"
    },
    {
     "data": {
      "image/png": "[encoded data removed]",
      "text/plain": [
       "<Figure size 432x288 with 1 Axes>"
      ]
     },
     "metadata": {
      "needs_background": "light"
     },
     "output_type": "display_data"
    }
   ],
   "source": [
    "sns.scatterplot(data = state_1996,x = \"Admissions\",y = \"Discharged\")"
   ]
  },
  {
   "cell_type": "code",
   "execution_count": 24,
   "id": "df69be05",
   "metadata": {},
   "outputs": [
    {
     "data": {
      "text/plain": [
       "<AxesSubplot:xlabel='Admissions', ylabel='Discharged'>"
      ]
     },
     "execution_count": 24,
     "metadata": {},
     "output_type": "execute_result"
    },
    {
     "data": {
      "image/png": "[encoded data removed]",
      "text/plain": [
       "<Figure size 432x288 with 1 Axes>"
      ]
     },
     "metadata": {
      "needs_background": "light"
     },
     "output_type": "display_data"
    }
   ],
   "source": [
    "sns.scatterplot(data = state_1997,x = \"Admissions\",y = \"Discharged\")"
   ]
  },
  {
   "cell_type": "markdown",
   "id": "e86dd866",
   "metadata": {},
   "source": [
    "**INTERPRETATION:**\n",
    "    \n",
    "There exists linear relationshp between \"Admissions\" and \"Discharged\".\n",
    "Hence, we can go for fitting of linear regression model."
   ]
  },
  {
   "cell_type": "markdown",
   "id": "763818be",
   "metadata": {},
   "source": [
    "# ~~~ Fitting of a linear regression model"
   ]
  },
  {
   "cell_type": "code",
   "execution_count": 25,
   "id": "addcc59a",
   "metadata": {},
   "outputs": [
    {
     "data": {
      "text/plain": [
       "Text(0.5, 1.0, 'Admissions v/s Discharged Relationship')"
      ]
     },
     "execution_count": 25,
     "metadata": {},
     "output_type": "execute_result"
    },
    {
     "data": {
      "image/png": "[encoded data removed]",
      "text/plain": [
       "<Figure size 432x288 with 1 Axes>"
      ]
     },
     "metadata": {
      "needs_background": "light"
     },
     "output_type": "display_data"
    }
   ],
   "source": [
    "# Different components of Simple Linear Regression model.\n",
    "\n",
    "indpt = state_1997['Admissions']\n",
    "dpt = state_1997['Discharged']\n",
    "\n",
    "import matplotlib.pyplot as plt\n",
    "from scipy import stats\n",
    "slope, intercept, r, p, std_err = stats.linregress(indpt, dpt)\n",
    "\n",
    "# Defining a user defined function to compute the predicted value of salary using years of experience.\n",
    "\n",
    "def dis_pre(indpt):\n",
    "    return slope * indpt + intercept\n",
    "\n",
    "predicted_disch = list(map(dis_pre, indpt))\n",
    "\n",
    "                                                    # Mean Square Error\n",
    "\n",
    "import numpy as np\n",
    "diff = np.subtract(predicted_disch,dpt)\n",
    "sqr_diff = np.square(diff)\n",
    "mse = sum(sqr_diff)/len(diff)\n",
    "\n",
    "# Scatter-Plot\n",
    "\n",
    "# Plotting scatter diagram to check linear relationship between both the variables.\n",
    "\n",
    "plt.scatter(indpt, dpt, c= \"red\",linewidths = 0.5, marker = \"^\",edgecolor = \"yellow\",s=50)\n",
    "plt.xlabel(\"Number of patients admitted to the hospital\")\n",
    "plt.ylabel(\"Discharged number of patients\")\n",
    "plt.title(\"Admissions v/s Discharged Relationship\")"
   ]
  },
  {
   "cell_type": "code",
   "execution_count": 26,
   "id": "eea1805c",
   "metadata": {},
   "outputs": [
    {
     "data": {
      "image/png": "[encoded data removed]",
      "text/plain": [
       "<Figure size 432x288 with 1 Axes>"
      ]
     },
     "metadata": {
      "needs_background": "light"
     },
     "output_type": "display_data"
    }
   ],
   "source": [
    "plt.plot(indpt, predicted_disch, color = 'blue',linewidth = 1.5)\n",
    "plt.xlabel(\"Number of patients admitted to the hospital\")\n",
    "plt.ylabel(\"Discharged number of patients\")\n",
    "plt.title(\"Fitted line\")\n",
    "plt.show()"
   ]
  },
  {
   "cell_type": "code",
   "execution_count": 27,
   "id": "34c411c7",
   "metadata": {},
   "outputs": [
    {
     "name": "stdout",
     "output_type": "stream",
     "text": [
      "The intercept value is:  180.75\n",
      "The regression coefficient is:  0.94\n",
      "Coefficient of determination is:  0.97\n",
      "The value of Standard error is:  0.06330508959661256\n",
      "The mean square error is:  307628.7256808688\n",
      "p value is: 8.336704734478478e-11\n"
     ]
    },
    {
     "data": {
      "text/plain": [
       "18"
      ]
     },
     "execution_count": 27,
     "metadata": {},
     "output_type": "execute_result"
    }
   ],
   "source": [
    "print(\"The intercept value is: \",round(intercept,2))\n",
    "print(\"The regression coefficient is: \",round(slope,2))\n",
    "print(\"Coefficient of determination is: \",round(r,2))\n",
    "print(\"The value of Standard error is: \",std_err)\n",
    "print(\"The mean square error is: \",mse)\n",
    "print(\"p value is:\",p)\n",
    "len(diff)"
   ]
  },
  {
   "cell_type": "markdown",
   "id": "de936c71",
   "metadata": {},
   "source": [
    "**Interpretation:**\n",
    "\n",
    "We’ve found our regression line with intercept value as 180.75 and slope value (regression coefficient) as 0.94\n",
    "\n",
    "Hence, \n",
    "\n",
    "**Regression line:\n",
    "Estimated value of Discharged number of patients = yhat = 180.75 + 0.94 *(Number of patients admitted to the hospital)**\n",
    "\n",
    "**Interpretation for intercept term:**\n",
    "\n",
    "The average value of \"Discharged number of patients\" is 181 when \"Number of patients admitted to the hospital\" is 0. This is the case when patients were already there in hospital.\n",
    "\n",
    "**Interpretation for regression coefficient or slope:**\n",
    "\n",
    "**The sign of regression coefficient** is positive. This implies that as value of \"Admissions\" increases the value of \"Discharged\" also increases, that is there is positive relationship b/w the two variables.\n",
    "\n",
    "The value 0.94 tells us that for every additional unit of patient admitted results in increase by an average of 0.94 in patients discharged.\n",
    "\n",
    "**Interpretation for R-Square value:**\n",
    "\n",
    "**The value 0.97 implies that 97% of variability is explained by the model which means fitted model is a good fit.**\n",
    "\n",
    "R-squared provides the relative measure of the percentage of the dependent variable variance that the model explains.\n",
    "\n",
    "**Interpretation of standard error:**\n",
    "\n",
    "The fitted line plot indicates that the standard error is 0.063 which is very small.\n",
    "\n",
    "The standard error estimates the variability across samples of a population.So, the standard distance b/w the observations and estimated values of dischrged patients is 0.063 \n",
    "\n",
    "The standard error of the regression provides the absolute measure of the typical distance that the data points fall from the regression line.\n",
    "\n",
    "**Interpretation of Mean Square error**\n",
    "\n",
    "It tells us how close a regression line is to a set of points. It does this by taking the distances from the points to the regression line (these distances are the “errors”) and squaring them. The squaring is necessary to remove any negative signs. It also gives more weight to larger differences. It’s called the mean squared error as you’re finding the average of a set of errors. The lower the MSE, the better the forecast.The smaller the mean squared error, the closer we are to find the line of best fit.\n",
    "\n",
    "**Interpretation for p value:**\n",
    "\n",
    "Now, we’ll test the significance of the regression coefficient by stating the following hypothesis at a significance level of 5 %\n",
    "\n",
    "Ho: There is no linear relationship between X and Y\n",
    "\n",
    "H1: There is a linear relationship between X and Y\n",
    "\n",
    "Our rejection criteria is that: **Reject H0 when p-value is less than the level of significance(0.05)**\n",
    "\n",
    "p-value is 8.336704734478478e-11 which is much less than that of level of significance.\n",
    "\n",
    "Thus, it is statistically significant.\n",
    "\n",
    "So, we’ll reject the null hypothesis.\n",
    "\n",
    "**Hence, it can be concluded that \"There exists linear relationship between \"Admissions\" and \"Discharged.\"**"
   ]
  },
  {
   "cell_type": "markdown",
   "id": "c143b876",
   "metadata": {},
   "source": [
    "# ~~~~ ~~~~ Predictive Analysis"
   ]
  },
  {
   "cell_type": "markdown",
   "id": "c2fcd3f7",
   "metadata": {},
   "source": [
    "Our regression line is as below:\n",
    "\n",
    "Estimated value of Discharged number of patients = yhat = 180.75 + 0.94 *(Number of patients admitted to the hospital)\n",
    "\n",
    "So, we can predict the No. of discharged patients based on number of admissions in particular year."
   ]
  },
  {
   "cell_type": "code",
   "execution_count": 28,
   "id": "cc736dac",
   "metadata": {},
   "outputs": [
    {
     "data": {
      "text/plain": [
       "243"
      ]
     },
     "execution_count": 28,
     "metadata": {},
     "output_type": "execute_result"
    }
   ],
   "source": [
    "dis1 = 180.75 + 0.94 * 67\n",
    "int(dis1)"
   ]
  },
  {
   "cell_type": "markdown",
   "id": "cdc04b1f",
   "metadata": {},
   "source": [
    "**EXPLANATION:**\n",
    "\n",
    "If 67 patients got admitted then, no. of patients discharged are 243\n",
    "\n",
    "Discharged > Admissions because some patients were already there in hospital from previous years."
   ]
  },
  {
   "cell_type": "markdown",
   "id": "ef0e8102",
   "metadata": {},
   "source": [
    "# <center> TESTING OF HYPOTHESIS"
   ]
  },
  {
   "cell_type": "markdown",
   "id": "7420530c",
   "metadata": {},
   "source": [
    "# ~~~ ANOVA TEST\n",
    "Comparison of 'Total Number of beds' in all three years (1995,1996,1997)"
   ]
  },
  {
   "cell_type": "markdown",
   "id": "9849319c",
   "metadata": {},
   "source": [
    "**H0: The mean number of beds available in all states for all 3 years are equal.**\n",
    "    \n",
    "**H1: The mean number of beds available in all states for all 3 years aren't equal.**"
   ]
  },
  {
   "cell_type": "code",
   "execution_count": 29,
   "id": "40aea40c",
   "metadata": {},
   "outputs": [
    {
     "name": "stdout",
     "output_type": "stream",
     "text": [
      "stat=1.613, p=0.446\n",
      "The mean number of beds available in all states for all 3 years are equal.\n"
     ]
    }
   ],
   "source": [
    "from scipy.stats import kruskal\n",
    "stat, p = kruskal(state_1995[\"Total No. of Beds\"],state_1996[\"Total No. of Beds\"],state_1997[\"Total No. of Beds\"])\n",
    "print('stat=%.3f, p=%.3f' % (stat, p))\n",
    "\n",
    "# Rejection Criteria:\n",
    "                    # When p < 0.05, Reject H0\n",
    "    \n",
    "if p > 0.05:\n",
    "\tprint('The mean number of beds available in all states for all 3 years are equal.')\n",
    "else:\n",
    "\tprint('The mean number of beds available in all states for all 3 years are not equal.')"
   ]
  },
  {
   "cell_type": "markdown",
   "id": "e7195106",
   "metadata": {},
   "source": [
    "**INTERPRETATION:**\n",
    "\n",
    "1. The mean number of beds available in all states for all 3 years (1995,1996,1997) are equal.\n",
    "\n",
    "2. It was also noted from the graph plot seen through VISUALIZATION."
   ]
  },
  {
   "cell_type": "markdown",
   "id": "13812fc4",
   "metadata": {},
   "source": [
    "# Data Visualization "
   ]
  },
  {
   "cell_type": "markdown",
   "id": "f9717f69",
   "metadata": {},
   "source": [
    "# ~~~ Bar Graph"
   ]
  },
  {
   "cell_type": "code",
   "execution_count": 30,
   "id": "986cc1e6",
   "metadata": {},
   "outputs": [
    {
     "data": {
      "text/plain": [
       "<AxesSubplot:xlabel='States/UTs'>"
      ]
     },
     "execution_count": 30,
     "metadata": {},
     "output_type": "execute_result"
    },
    {
     "data": {
      "image/png": "[encoded data removed]",
      "text/plain": [
       "<Figure size 432x288 with 1 Axes>"
      ]
     },
     "metadata": {
      "needs_background": "light"
     },
     "output_type": "display_data"
    },
    {
     "data": {
      "image/png": "[encoded data removed]",
      "text/plain": [
       "<Figure size 432x288 with 1 Axes>"
      ]
     },
     "metadata": {
      "needs_background": "light"
     },
     "output_type": "display_data"
    },
    {
     "data": {
      "image/png": "[encoded data removed]",
      "text/plain": [
       "<Figure size 432x288 with 1 Axes>"
      ]
     },
     "metadata": {
      "needs_background": "light"
     },
     "output_type": "display_data"
    }
   ],
   "source": [
    "state_1995a.plot(x = \"States/UTs\", y =\"Total No. of Beds\",kind=\"bar\",color=\"blue\")\n",
    "state_1996a.plot(x = \"States/UTs\", y =\"Total No. of Beds\",kind=\"bar\",color=\"red\")\n",
    "state_1997a.plot(x = \"States/UTs\", y =\"Total No. of Beds\",kind=\"bar\",color=\"magenta\")"
   ]
  },
  {
   "cell_type": "markdown",
   "id": "fd062d2b",
   "metadata": {},
   "source": [
    "**INTERPRETATION:**\n",
    "\n",
    "On an average number of beds available in all states for all 3 years (1995,1996,1997) are equal."
   ]
  },
  {
   "cell_type": "markdown",
   "id": "84e95863",
   "metadata": {},
   "source": [
    "# <center> PRESCRIPTIVE ANALYSIS"
   ]
  },
  {
   "cell_type": "code",
   "execution_count": 31,
   "id": "f780fcc9",
   "metadata": {},
   "outputs": [
    {
     "name": "stdout",
     "output_type": "stream",
     "text": [
      "<class 'pandas.core.series.Series'> <class 'pandas.core.series.Series'> <class 'pandas.core.series.Series'>\n"
     ]
    }
   ],
   "source": [
    "# Extracting the minimum value of Bed Availibility\n",
    "\n",
    "mini_95 = state_1995a['Total No. of Beds'].min()\n",
    "mini_96 = state_1996a['Total No. of Beds'].min()\n",
    "mini_97 = state_1997a['Total No. of Beds'].min()\n",
    "\n",
    "# Extracting the states with minimum value of bed availability\n",
    "stat_95 = state_1995a['States/UTs'][state_1995a['Total No. of Beds'] == mini_95]\n",
    "stat_96 = state_1996a['States/UTs'][state_1996a['Total No. of Beds'] == mini_96]\n",
    "stat_97 = state_1997a['States/UTs'][state_1997a['Total No. of Beds'] == mini_97]\n",
    "\n",
    "print(type(stat_95),type(stat_96),type(stat_97))"
   ]
  },
  {
   "cell_type": "code",
   "execution_count": 32,
   "id": "5f2b80a1",
   "metadata": {},
   "outputs": [],
   "source": [
    "# Converting the series into sets.\n",
    "\n",
    "stat_97a = set(stat_97)\n",
    "stat_96a = set(stat_96)\n",
    "stat_95a = set(stat_95)"
   ]
  },
  {
   "cell_type": "code",
   "execution_count": 33,
   "id": "14c092dd",
   "metadata": {},
   "outputs": [
    {
     "name": "stdout",
     "output_type": "stream",
     "text": [
      "States with worst medical facilities for mental disorders are:\n",
      " {'Tamil Nadu', 'Punjab', 'Madhya Pradesh', 'West Bengal', 'Nagaland', 'Jammu & Kashmir'}\n"
     ]
    }
   ],
   "source": [
    "a = stat_95a.union(stat_96a)\n",
    "print(\"States with worst medical facilities for mental disorders are:\\n\",a.union(stat_97a))"
   ]
  },
  {
   "cell_type": "markdown",
   "id": "8f5e4e77",
   "metadata": {},
   "source": [
    "**INTERPRETATION:**\n",
    "\n",
    "Above is the set of states whose government was not performing well in providing good medical facilities in years 1995,1996,1997\n",
    "\n",
    "During this time, INDIAN NATIONAL CONGRESS was ruling in MP,Nagaland.\n",
    "During this time, BJP was ruling in Punjab.\n",
    "During this time, National conference was ruling in Jammu & Kashmir.\n",
    "During this time, Dravida Munnetra Kazhagam was ruling in Tamil Nadu.\n",
    "During this time, Communist Party of India (Marxist) was ruling in West Bengal.\n",
    "\n",
    "**So, above political parties were not performing well in providing good medical facilities in years 1995,1996,1997**"
   ]
  },
  {
   "cell_type": "markdown",
   "id": "37ae11ac",
   "metadata": {},
   "source": [
    "# <center> CONCLUSION (Task1):"
   ]
  },
  {
   "cell_type": "markdown",
   "id": "95624c44",
   "metadata": {},
   "source": [
    "# ~~~~ ~~~~ Possible problems for misfunctioning of mental heath care system:\n",
    "\n",
    "1. Lack of manpower\n",
    "2. Poor infrastructure\n",
    "3. Low penetration of health insurance\n",
    "4. Low quality control"
   ]
  },
  {
   "cell_type": "markdown",
   "id": "63a908cc",
   "metadata": {},
   "source": [
    "# ~~~~ ~~~~ Suggestions to improve the mental health care system:\n",
    "\n",
    "If the government spends more on mental healthcare, than it currently is, it can achieve the following:\n",
    "\n",
    "1. Higher wages and better living conditions in smaller towns and villages will enable medical staff and doctors to be able to work there.\n",
    "2. Higher spending will enable public hospitals to acquire medicines and supplies, receive uninterrupted water and electricity supply, maintain equipment and ambulances so that they’re functional and available when required\n",
    "3. More funding on medical and nursing colleges and technical training centers would help increase the existing number of seats or open new colleges in more locations. This would produce more number of skilled medical manpower to cater to the huge demands of our population."
   ]
  },
  {
   "cell_type": "markdown",
   "id": "af5e450c",
   "metadata": {},
   "source": [
    "# <center> End of Task 1"
   ]
  },
  {
   "cell_type": "markdown",
   "id": "d2e4352c",
   "metadata": {},
   "source": [
    "# ~~~~ ~~~~ Data Description (Task 2):\n",
    "\n",
    "We have the data of number of Schizophrenic patients among different age groups of 10 years i.e., from the year 2009-2019"
   ]
  },
  {
   "cell_type": "markdown",
   "id": "1deb42a1",
   "metadata": {},
   "source": [
    "# ~~~~ ~~~~ Objective (Task 2):\n",
    "\n",
    "1. To analyse which age group is more prone to schizophrenia.\n",
    "2. To provide remedies to that age group to get rid of schizophrenia."
   ]
  },
  {
   "cell_type": "code",
   "execution_count": 34,
   "id": "eb8cb668",
   "metadata": {},
   "outputs": [
    {
     "data": {
      "text/html": [
       "<div>\n",
       "<style scoped>\n",
       "    .dataframe tbody tr th:only-of-type {\n",
       "        vertical-align: middle;\n",
       "    }\n",
       "\n",
       "    .dataframe tbody tr th {\n",
       "        vertical-align: top;\n",
       "    }\n",
       "\n",
       "    .dataframe thead th {\n",
       "        text-align: right;\n",
       "    }\n",
       "</style>\n",
       "<table border=\"1\" class=\"dataframe\">\n",
       "  <thead>\n",
       "    <tr style=\"text-align: right;\">\n",
       "      <th></th>\n",
       "      <th>&lt; 15</th>\n",
       "      <th>15-24</th>\n",
       "      <th>25-34</th>\n",
       "      <th>35-44</th>\n",
       "      <th>45-54</th>\n",
       "      <th>55-64</th>\n",
       "      <th>&gt;64</th>\n",
       "      <th>Total</th>\n",
       "    </tr>\n",
       "    <tr>\n",
       "      <th>Year \\ Age group</th>\n",
       "      <th></th>\n",
       "      <th></th>\n",
       "      <th></th>\n",
       "      <th></th>\n",
       "      <th></th>\n",
       "      <th></th>\n",
       "      <th></th>\n",
       "      <th></th>\n",
       "    </tr>\n",
       "  </thead>\n",
       "  <tbody>\n",
       "    <tr>\n",
       "      <th>2019</th>\n",
       "      <td>7</td>\n",
       "      <td>3</td>\n",
       "      <td>11</td>\n",
       "      <td>14</td>\n",
       "      <td>26</td>\n",
       "      <td>26</td>\n",
       "      <td>35</td>\n",
       "      <td>122</td>\n",
       "    </tr>\n",
       "    <tr>\n",
       "      <th>2018</th>\n",
       "      <td>2</td>\n",
       "      <td>7</td>\n",
       "      <td>17</td>\n",
       "      <td>27</td>\n",
       "      <td>32</td>\n",
       "      <td>26</td>\n",
       "      <td>54</td>\n",
       "      <td>165</td>\n",
       "    </tr>\n",
       "    <tr>\n",
       "      <th>2017</th>\n",
       "      <td>1</td>\n",
       "      <td>1</td>\n",
       "      <td>7</td>\n",
       "      <td>24</td>\n",
       "      <td>22</td>\n",
       "      <td>15</td>\n",
       "      <td>41</td>\n",
       "      <td>111</td>\n",
       "    </tr>\n",
       "    <tr>\n",
       "      <th>2016</th>\n",
       "      <td>20</td>\n",
       "      <td>27</td>\n",
       "      <td>38</td>\n",
       "      <td>64</td>\n",
       "      <td>70</td>\n",
       "      <td>69</td>\n",
       "      <td>116</td>\n",
       "      <td>404</td>\n",
       "    </tr>\n",
       "    <tr>\n",
       "      <th>2015</th>\n",
       "      <td>7</td>\n",
       "      <td>5</td>\n",
       "      <td>22</td>\n",
       "      <td>33</td>\n",
       "      <td>23</td>\n",
       "      <td>23</td>\n",
       "      <td>27</td>\n",
       "      <td>140</td>\n",
       "    </tr>\n",
       "    <tr>\n",
       "      <th>2014</th>\n",
       "      <td>0</td>\n",
       "      <td>2</td>\n",
       "      <td>4</td>\n",
       "      <td>11</td>\n",
       "      <td>22</td>\n",
       "      <td>11</td>\n",
       "      <td>9</td>\n",
       "      <td>59</td>\n",
       "    </tr>\n",
       "    <tr>\n",
       "      <th>2013</th>\n",
       "      <td>21</td>\n",
       "      <td>14</td>\n",
       "      <td>25</td>\n",
       "      <td>36</td>\n",
       "      <td>37</td>\n",
       "      <td>43</td>\n",
       "      <td>70</td>\n",
       "      <td>246</td>\n",
       "    </tr>\n",
       "    <tr>\n",
       "      <th>2012</th>\n",
       "      <td>0</td>\n",
       "      <td>28</td>\n",
       "      <td>36</td>\n",
       "      <td>50</td>\n",
       "      <td>51</td>\n",
       "      <td>42</td>\n",
       "      <td>60</td>\n",
       "      <td>267</td>\n",
       "    </tr>\n",
       "    <tr>\n",
       "      <th>2011</th>\n",
       "      <td>3</td>\n",
       "      <td>18</td>\n",
       "      <td>26</td>\n",
       "      <td>30</td>\n",
       "      <td>26</td>\n",
       "      <td>40</td>\n",
       "      <td>40</td>\n",
       "      <td>183</td>\n",
       "    </tr>\n",
       "    <tr>\n",
       "      <th>2010</th>\n",
       "      <td>1</td>\n",
       "      <td>5</td>\n",
       "      <td>18</td>\n",
       "      <td>18</td>\n",
       "      <td>30</td>\n",
       "      <td>26</td>\n",
       "      <td>31</td>\n",
       "      <td>129</td>\n",
       "    </tr>\n",
       "    <tr>\n",
       "      <th>2009</th>\n",
       "      <td>0</td>\n",
       "      <td>1</td>\n",
       "      <td>8</td>\n",
       "      <td>9</td>\n",
       "      <td>8</td>\n",
       "      <td>13</td>\n",
       "      <td>33</td>\n",
       "      <td>72</td>\n",
       "    </tr>\n",
       "  </tbody>\n",
       "</table>\n",
       "</div>"
      ],
      "text/plain": [
       "                  < 15  15-24  25-34  35-44  45-54  55-64  >64  Total\n",
       "Year \\ Age group                                                     \n",
       "2019                 7      3     11     14     26     26   35    122\n",
       "2018                 2      7     17     27     32     26   54    165\n",
       "2017                 1      1      7     24     22     15   41    111\n",
       "2016                20     27     38     64     70     69  116    404\n",
       "2015                 7      5     22     33     23     23   27    140\n",
       "2014                 0      2      4     11     22     11    9     59\n",
       "2013                21     14     25     36     37     43   70    246\n",
       "2012                 0     28     36     50     51     42   60    267\n",
       "2011                 3     18     26     30     26     40   40    183\n",
       "2010                 1      5     18     18     30     26   31    129\n",
       "2009                 0      1      8      9      8     13   33     72"
      ]
     },
     "execution_count": 34,
     "metadata": {},
     "output_type": "execute_result"
    }
   ],
   "source": [
    "# Importing the dataset saved in the system\n",
    "\n",
    "age_year = pd.read_excel('Age wise patients 2009-2019.xlsx',index_col='Year \\ Age group')\n",
    "age_yeara = pd.read_excel('Age wise patients 2009-2019.xlsx')\n",
    "age_year                         "
   ]
  },
  {
   "cell_type": "markdown",
   "id": "a2c73529",
   "metadata": {},
   "source": [
    "# ~~~ DESCRIPTIVE ANALYSIS"
   ]
  },
  {
   "cell_type": "code",
   "execution_count": 35,
   "id": "3a18fbf1",
   "metadata": {},
   "outputs": [
    {
     "name": "stdout",
     "output_type": "stream",
     "text": [
      "<class 'pandas.core.frame.DataFrame'>\n",
      "The dimensions of the dataset are: (11, 8)\n",
      "Index(['< 15', '15-24', '25-34', '35-44', '45-54', '55-64', '>64', 'Total'], dtype='object')\n",
      "\n",
      "            < 15      15-24      25-34      35-44      45-54      55-64  \\\n",
      "count  11.000000  11.000000  11.000000  11.000000  11.000000  11.000000   \n",
      "mean    5.636364  10.090909  19.272727  28.727273  31.545455  30.363636   \n",
      "std     7.775252  10.133652  11.411318  16.823144  16.615436  17.042727   \n",
      "min     0.000000   1.000000   4.000000   9.000000   8.000000  11.000000   \n",
      "25%     0.500000   2.500000   9.500000  16.000000  22.500000  19.000000   \n",
      "50%     2.000000   5.000000  18.000000  27.000000  26.000000  26.000000   \n",
      "75%     7.000000  16.000000  25.500000  34.500000  34.500000  41.000000   \n",
      "max    21.000000  28.000000  38.000000  64.000000  70.000000  69.000000   \n",
      "\n",
      "              >64       Total  \n",
      "count   11.000000   11.000000  \n",
      "mean    46.909091  172.545455  \n",
      "std     28.342387  100.177207  \n",
      "min      9.000000   59.000000  \n",
      "25%     32.000000  116.500000  \n",
      "50%     40.000000  140.000000  \n",
      "75%     57.000000  214.500000  \n",
      "max    116.000000  404.000000  \n",
      "\n",
      "<class 'pandas.core.frame.DataFrame'>\n",
      "Int64Index: 11 entries, 2019 to 2009\n",
      "Data columns (total 8 columns):\n",
      " #   Column  Non-Null Count  Dtype\n",
      "---  ------  --------------  -----\n",
      " 0   < 15    11 non-null     int64\n",
      " 1   15-24   11 non-null     int64\n",
      " 2   25-34   11 non-null     int64\n",
      " 3   35-44   11 non-null     int64\n",
      " 4   45-54   11 non-null     int64\n",
      " 5   55-64   11 non-null     int64\n",
      " 6   >64     11 non-null     int64\n",
      " 7   Total   11 non-null     int64\n",
      "dtypes: int64(8)\n",
      "memory usage: 792.0 bytes\n",
      "None\n"
     ]
    }
   ],
   "source": [
    "# Checking the datatype, dimensions and column names to get more information about our dataset.\n",
    "\n",
    "print(type(age_year))\n",
    "print(\"The dimensions of the dataset are:\",age_year.shape)\n",
    "print(age_year.columns)\n",
    "print(\"\")\n",
    "print(age_year.describe())\n",
    "print(\"\")\n",
    "print(age_year.info())"
   ]
  },
  {
   "cell_type": "markdown",
   "id": "d07f3a5e",
   "metadata": {},
   "source": [
    "# Checking linear relationship"
   ]
  },
  {
   "cell_type": "code",
   "execution_count": 36,
   "id": "72165661",
   "metadata": {},
   "outputs": [
    {
     "data": {
      "text/plain": [
       "<AxesSubplot:xlabel='15-24', ylabel='25-34'>"
      ]
     },
     "execution_count": 36,
     "metadata": {},
     "output_type": "execute_result"
    },
    {
     "data": {
      "image/png": "[encoded data removed]",
      "text/plain": [
       "<Figure size 432x288 with 1 Axes>"
      ]
     },
     "metadata": {
      "needs_background": "light"
     },
     "output_type": "display_data"
    }
   ],
   "source": [
    "sns.scatterplot(data = age_year,x = \"15-24\",y = \"25-34\")"
   ]
  },
  {
   "cell_type": "markdown",
   "id": "fd24bdfe",
   "metadata": {},
   "source": [
    "# EDA"
   ]
  },
  {
   "cell_type": "markdown",
   "id": "93d72948",
   "metadata": {},
   "source": [
    "**Checking missing values**"
   ]
  },
  {
   "cell_type": "code",
   "execution_count": 38,
   "id": "f629c21c",
   "metadata": {},
   "outputs": [
    {
     "data": {
      "text/plain": [
       "< 15     0\n",
       "15-24    0\n",
       "25-34    0\n",
       "35-44    0\n",
       "45-54    0\n",
       "55-64    0\n",
       ">64      0\n",
       "Total    0\n",
       "dtype: int64"
      ]
     },
     "execution_count": 38,
     "metadata": {},
     "output_type": "execute_result"
    }
   ],
   "source": [
    "age_year.isnull().sum()"
   ]
  },
  {
   "cell_type": "markdown",
   "id": "aa7da42a",
   "metadata": {},
   "source": [
    "**INTERPRETATION:**\n",
    "There doesn't exist any missing value in this dataset."
   ]
  },
  {
   "cell_type": "markdown",
   "id": "589b363e",
   "metadata": {},
   "source": [
    "**CORRELATION MODEL**"
   ]
  },
  {
   "cell_type": "code",
   "execution_count": 53,
   "id": "1c310bda",
   "metadata": {},
   "outputs": [
    {
     "data": {
      "text/html": [
       "<div>\n",
       "<style scoped>\n",
       "    .dataframe tbody tr th:only-of-type {\n",
       "        vertical-align: middle;\n",
       "    }\n",
       "\n",
       "    .dataframe tbody tr th {\n",
       "        vertical-align: top;\n",
       "    }\n",
       "\n",
       "    .dataframe thead th {\n",
       "        text-align: right;\n",
       "    }\n",
       "</style>\n",
       "<table border=\"1\" class=\"dataframe\">\n",
       "  <thead>\n",
       "    <tr style=\"text-align: right;\">\n",
       "      <th></th>\n",
       "      <th>&lt; 15</th>\n",
       "      <th>15-24</th>\n",
       "      <th>25-34</th>\n",
       "      <th>35-44</th>\n",
       "      <th>45-54</th>\n",
       "      <th>55-64</th>\n",
       "      <th>&gt;64</th>\n",
       "      <th>Total</th>\n",
       "    </tr>\n",
       "  </thead>\n",
       "  <tbody>\n",
       "    <tr>\n",
       "      <th>&lt; 15</th>\n",
       "      <td>1.000000</td>\n",
       "      <td>0.429441</td>\n",
       "      <td>0.516299</td>\n",
       "      <td>0.588597</td>\n",
       "      <td>0.586877</td>\n",
       "      <td>0.721790</td>\n",
       "      <td>0.733150</td>\n",
       "      <td>0.706273</td>\n",
       "    </tr>\n",
       "    <tr>\n",
       "      <th>15-24</th>\n",
       "      <td>0.429441</td>\n",
       "      <td>1.000000</td>\n",
       "      <td>0.940629</td>\n",
       "      <td>0.894107</td>\n",
       "      <td>0.857285</td>\n",
       "      <td>0.894957</td>\n",
       "      <td>0.755571</td>\n",
       "      <td>0.900001</td>\n",
       "    </tr>\n",
       "    <tr>\n",
       "      <th>25-34</th>\n",
       "      <td>0.516299</td>\n",
       "      <td>0.940629</td>\n",
       "      <td>1.000000</td>\n",
       "      <td>0.921383</td>\n",
       "      <td>0.839309</td>\n",
       "      <td>0.908530</td>\n",
       "      <td>0.759150</td>\n",
       "      <td>0.912420</td>\n",
       "    </tr>\n",
       "    <tr>\n",
       "      <th>35-44</th>\n",
       "      <td>0.588597</td>\n",
       "      <td>0.894107</td>\n",
       "      <td>0.921383</td>\n",
       "      <td>1.000000</td>\n",
       "      <td>0.909631</td>\n",
       "      <td>0.892913</td>\n",
       "      <td>0.859408</td>\n",
       "      <td>0.954944</td>\n",
       "    </tr>\n",
       "    <tr>\n",
       "      <th>45-54</th>\n",
       "      <td>0.586877</td>\n",
       "      <td>0.857285</td>\n",
       "      <td>0.839309</td>\n",
       "      <td>0.909631</td>\n",
       "      <td>1.000000</td>\n",
       "      <td>0.903979</td>\n",
       "      <td>0.867565</td>\n",
       "      <td>0.945740</td>\n",
       "    </tr>\n",
       "    <tr>\n",
       "      <th>55-64</th>\n",
       "      <td>0.721790</td>\n",
       "      <td>0.894957</td>\n",
       "      <td>0.908530</td>\n",
       "      <td>0.892913</td>\n",
       "      <td>0.903979</td>\n",
       "      <td>1.000000</td>\n",
       "      <td>0.900638</td>\n",
       "      <td>0.974866</td>\n",
       "    </tr>\n",
       "    <tr>\n",
       "      <th>&gt;64</th>\n",
       "      <td>0.733150</td>\n",
       "      <td>0.755571</td>\n",
       "      <td>0.759150</td>\n",
       "      <td>0.859408</td>\n",
       "      <td>0.867565</td>\n",
       "      <td>0.900638</td>\n",
       "      <td>1.000000</td>\n",
       "      <td>0.944173</td>\n",
       "    </tr>\n",
       "    <tr>\n",
       "      <th>Total</th>\n",
       "      <td>0.706273</td>\n",
       "      <td>0.900001</td>\n",
       "      <td>0.912420</td>\n",
       "      <td>0.954944</td>\n",
       "      <td>0.945740</td>\n",
       "      <td>0.974866</td>\n",
       "      <td>0.944173</td>\n",
       "      <td>1.000000</td>\n",
       "    </tr>\n",
       "  </tbody>\n",
       "</table>\n",
       "</div>"
      ],
      "text/plain": [
       "           < 15     15-24     25-34     35-44     45-54     55-64       >64  \\\n",
       "< 15   1.000000  0.429441  0.516299  0.588597  0.586877  0.721790  0.733150   \n",
       "15-24  0.429441  1.000000  0.940629  0.894107  0.857285  0.894957  0.755571   \n",
       "25-34  0.516299  0.940629  1.000000  0.921383  0.839309  0.908530  0.759150   \n",
       "35-44  0.588597  0.894107  0.921383  1.000000  0.909631  0.892913  0.859408   \n",
       "45-54  0.586877  0.857285  0.839309  0.909631  1.000000  0.903979  0.867565   \n",
       "55-64  0.721790  0.894957  0.908530  0.892913  0.903979  1.000000  0.900638   \n",
       ">64    0.733150  0.755571  0.759150  0.859408  0.867565  0.900638  1.000000   \n",
       "Total  0.706273  0.900001  0.912420  0.954944  0.945740  0.974866  0.944173   \n",
       "\n",
       "          Total  \n",
       "< 15   0.706273  \n",
       "15-24  0.900001  \n",
       "25-34  0.912420  \n",
       "35-44  0.954944  \n",
       "45-54  0.945740  \n",
       "55-64  0.974866  \n",
       ">64    0.944173  \n",
       "Total  1.000000  "
      ]
     },
     "execution_count": 53,
     "metadata": {},
     "output_type": "execute_result"
    }
   ],
   "source": [
    "age_year.corr()"
   ]
  },
  {
   "cell_type": "markdown",
   "id": "79dc62b8",
   "metadata": {},
   "source": [
    "There exists high degree of correlation between age group (15-24) and (25-34) and so on."
   ]
  },
  {
   "cell_type": "code",
   "execution_count": 65,
   "id": "264fde19",
   "metadata": {},
   "outputs": [
    {
     "data": {
      "text/plain": [
       "<AxesSubplot:>"
      ]
     },
     "execution_count": 65,
     "metadata": {},
     "output_type": "execute_result"
    },
    {
     "data": {
      "image/png": "[encoded data removed]",
      "text/plain": [
       "<Figure size 648x648 with 2 Axes>"
      ]
     },
     "metadata": {
      "needs_background": "light"
     },
     "output_type": "display_data"
    }
   ],
   "source": [
    "# CORRELATION MODEL\n",
    "plt.figure(figsize=(9,9))\n",
    "sns.heatmap(age_year.corr(), annot=True)"
   ]
  },
  {
   "cell_type": "markdown",
   "id": "6dd8ccb6",
   "metadata": {},
   "source": [
    "# ~~~ Shapiro-Wilk Test (Checking normality)"
   ]
  },
  {
   "cell_type": "markdown",
   "id": "e445517d",
   "metadata": {},
   "source": [
    "**Age Group '25-34'**"
   ]
  },
  {
   "cell_type": "code",
   "execution_count": 66,
   "id": "a59264ea",
   "metadata": {},
   "outputs": [
    {
     "name": "stdout",
     "output_type": "stream",
     "text": [
      "stat=0.945,p=0.580\n",
      "Age group 25-34 follows normal distribution\n"
     ]
    }
   ],
   "source": [
    "# Checking normality of the quantitative variables.\n",
    "\n",
    "from scipy.stats import shapiro\n",
    "stat, p = shapiro(age_yeara['25-34'])\n",
    "print('stat=%.3f,p=%.3f'%(stat,p))\n",
    "\n",
    "# H0:  Age group '25-34' follows normal distribution\n",
    "# Ha : Age group '25-34' doesn't follow normal distribution\n",
    "\n",
    "# Rejection Criteria:\n",
    "                    # When p < 0.05, Reject H0 \n",
    "\n",
    "if p < 0.05:\n",
    "    print('Age group 25-34 doesnot follow normal distribution ')\n",
    "else:\n",
    "    print('Age group 25-34 follows normal distribution')"
   ]
  },
  {
   "cell_type": "markdown",
   "id": "baa4c546",
   "metadata": {},
   "source": [
    "**Age group '15-24'**"
   ]
  },
  {
   "cell_type": "code",
   "execution_count": 67,
   "id": "edb7ce22",
   "metadata": {},
   "outputs": [
    {
     "name": "stdout",
     "output_type": "stream",
     "text": [
      "stat=0.823,p=0.019\n",
      "Age group 15-24 doesnot follow normal distribution \n"
     ]
    }
   ],
   "source": [
    "# Checking normality of the quantitative variables.\n",
    "\n",
    "from scipy.stats import shapiro\n",
    "stat, p = shapiro(age_yeara['15-24'])\n",
    "print('stat=%.3f,p=%.3f'%(stat,p))\n",
    "\n",
    "# H0:  Stock_Index_Price follows normal distribution\n",
    "# Ha : Stock_Index_Price doesn't follow normal distribution\n",
    "\n",
    "# Rejection Criteria:\n",
    "                    # When p < 0.05, Reject H0 \n",
    "\n",
    "if p < 0.05:\n",
    "    print('Age group 15-24 doesnot follow normal distribution ')\n",
    "else:\n",
    "    print('Age group 15-24 follows normal distribution')"
   ]
  },
  {
   "cell_type": "markdown",
   "id": "f49445d6",
   "metadata": {},
   "source": [
    "**INTERPRETATION:**\n",
    "\n",
    "Age group 15-24 doesnot follow normal distribution whereas Age group 25-34 follows normal distribution, hence we'll apply Pearson's correlation test here."
   ]
  },
  {
   "cell_type": "markdown",
   "id": "1c25484b",
   "metadata": {},
   "source": [
    "# ~~~ Pearson correlation test\n",
    "\n",
    "It is checked when one variable is normal (25-34) and other (15-24) doesn't follow normal distribution."
   ]
  },
  {
   "cell_type": "code",
   "execution_count": 68,
   "id": "b23d0d8a",
   "metadata": {},
   "outputs": [
    {
     "name": "stdout",
     "output_type": "stream",
     "text": [
      "stat=0.94,p=0.000\n",
      "There IS significant linear relationship (correlation) between age group \"15-24\" and age group \"25-34\"\n"
     ]
    }
   ],
   "source": [
    "from scipy.stats import pearsonr\n",
    "\n",
    "stat, p = pearsonr(age_yeara['15-24'],age_yeara['25-34'])\n",
    "print('stat=%.2f,p=%.3f'% (stat,p))\n",
    "\n",
    "# H0: There IS NOT a significant linear relationship (correlation) between age group \"15-24\" and age group \"25-34\"\n",
    "# H1: There IS significant linear relationship (correlation) between age group \"15-24\" and age group \"25-34\"\n",
    "\n",
    "# Rejection Criteria:\n",
    "\n",
    "# p-value < 0.05 then reject H0\n",
    "# p-value > 0.05 then we fail to reject H0\n",
    "\n",
    "if p < 0.05:\n",
    "    print('There IS significant linear relationship (correlation) between age group \"15-24\" and age group \"25-34\"')\n",
    "else:\n",
    "    print('There IS NOT a significant linear relationship (correlation) between age group \"15-24\" and age group \"25-34\"')"
   ]
  },
  {
   "cell_type": "markdown",
   "id": "4c9cfac8",
   "metadata": {},
   "source": [
    "# ~~~ Data Visualization"
   ]
  },
  {
   "cell_type": "code",
   "execution_count": 134,
   "id": "6eef8e10",
   "metadata": {},
   "outputs": [
    {
     "data": {
      "text/plain": [
       "<matplotlib.legend.Legend at 0x28802d614c0>"
      ]
     },
     "execution_count": 134,
     "metadata": {},
     "output_type": "execute_result"
    },
    {
     "data": {
      "image/png": "[encoded data removed]",
      "text/plain": [
       "<Figure size 432x288 with 1 Axes>"
      ]
     },
     "metadata": {
      "needs_background": "light"
     },
     "output_type": "display_data"
    }
   ],
   "source": [
    "plt.plot(age_yeara['Year \\ Age group'],age_yeara['25-34'],label=\"25-34\")\n",
    "plt.plot(age_yeara['Year \\ Age group'],age_yeara['15-24'],label=\"15-24\")\n",
    "plt.xlabel('Year')\n",
    "plt.ylabel('No. of Schizophrenic patients')\n",
    "plt.title('Comparison of two age groups')\n",
    "plt.legend()"
   ]
  },
  {
   "cell_type": "code",
   "execution_count": 32,
   "id": "c390d142",
   "metadata": {},
   "outputs": [
    {
     "data": {
      "text/plain": [
       "<function matplotlib.pyplot.show(close=None, block=None)>"
      ]
     },
     "execution_count": 32,
     "metadata": {},
     "output_type": "execute_result"
    },
    {
     "data": {
      "image/png": "[encoded data removed]",
      "text/plain": [
       "<Figure size 432x288 with 1 Axes>"
      ]
     },
     "metadata": {
      "needs_background": "light"
     },
     "output_type": "display_data"
    }
   ],
   "source": [
    "plt.plot(age_yeara['Year \\ Age group'],age_yeara['< 15'],color='red',label=\"<15\")\n",
    "plt.plot(age_yeara['Year \\ Age group'],age_yeara['15-24'],color='blue',label=\"15-24\")\n",
    "plt.xlabel('Year')\n",
    "plt.ylabel('No. of Schizophrenic patients')\n",
    "plt.title('Comparison of two age groups')\n",
    "plt.legend()\n",
    "plt.show"
   ]
  },
  {
   "cell_type": "markdown",
   "id": "41508112",
   "metadata": {},
   "source": [
    "# ~~~ PRESCRIPTIVE ANALYSIS:"
   ]
  },
  {
   "cell_type": "markdown",
   "id": "90218571",
   "metadata": {},
   "source": [
    "1. In most people with schizophrenia, symptoms generally start in age group '15-24'\n",
    "2. It's not known what causes **childhood schizophrenia (15-24)**, but it's thought that it develops in the same way as **adult schizophrenia (25-34)** does.\n",
    "3. **Consumption of omega-3 fatty acids (found in fish oil) may help prevent psychotic disorders from getting worse.**\n",
    "4. **Teens, especially, should be encouraged to connect with friends and avoid isolation.**"
   ]
  },
  {
   "cell_type": "markdown",
   "id": "f326812f",
   "metadata": {},
   "source": [
    "# ~~~ PREDICTIVE ANALYSIS"
   ]
  },
  {
   "cell_type": "code",
   "execution_count": 33,
   "id": "98f088ff",
   "metadata": {},
   "outputs": [
    {
     "data": {
      "text/plain": [
       "<AxesSubplot:xlabel='Year \\\\ Age group', ylabel='Total'>"
      ]
     },
     "execution_count": 33,
     "metadata": {},
     "output_type": "execute_result"
    },
    {
     "data": {
      "image/png": "[encoded data removed]",
      "text/plain": [
       "<Figure size 432x288 with 1 Axes>"
      ]
     },
     "metadata": {
      "needs_background": "light"
     },
     "output_type": "display_data"
    }
   ],
   "source": [
    "sns.scatterplot(data = age_yeara,x = \"Year \\ Age group\",y = \"Total\")"
   ]
  },
  {
   "cell_type": "markdown",
   "id": "5c600fa8",
   "metadata": {},
   "source": [
    "**INTERPRETATION:**\n",
    "\n",
    "In early years like 2009 and 2010 we can see less no of Schizophrenia case detected.\n",
    "\n",
    "One of the reason is there was very less awareness of mental health diseases and hence very few people used to report.\n",
    "\n",
    "Also, in years like 2016 there were more no. of cases detected which was starting stage where general public started giving importance to mental health diseases.\n",
    "\n",
    "We can see in year 2019 there is decrease in mental health diseases when compared to years like 2016. This may be because of increase in mental health awarness and  pschatriasts."
   ]
  },
  {
   "cell_type": "code",
   "execution_count": 34,
   "id": "9cb70bca",
   "metadata": {},
   "outputs": [
    {
     "data": {
      "text/plain": [
       "<function matplotlib.pyplot.show(close=None, block=None)>"
      ]
     },
     "execution_count": 34,
     "metadata": {},
     "output_type": "execute_result"
    },
    {
     "data": {
      "image/png": "[encoded data removed]",
      "text/plain": [
       "<Figure size 432x288 with 1 Axes>"
      ]
     },
     "metadata": {
      "needs_background": "light"
     },
     "output_type": "display_data"
    }
   ],
   "source": [
    "plt.plot(age_yeara['Year \\ Age group'],age_yeara['Total'],color=\"red\",linestyle='dashed', linewidth = 2.5,marker='o', markerfacecolor='blue', markersize=6)\n",
    "plt.xlabel('Year')\n",
    "plt.ylabel('Total no. of Schizophrenic patients in all age groups')\n",
    "plt.title('No. of Schizophrenic patients over the years')\n",
    "plt.show"
   ]
  },
  {
   "cell_type": "markdown",
   "id": "b67cfe9d",
   "metadata": {},
   "source": [
    "**It can be clearly seen that there doesn't exist linear relationship between the variables. So, linear regression model can't be fitted here.**"
   ]
  },
  {
   "cell_type": "markdown",
   "id": "eeade21e",
   "metadata": {},
   "source": [
    "# <center> End of Task 2"
   ]
  },
  {
   "cell_type": "markdown",
   "id": "35ffcd6a",
   "metadata": {},
   "source": [
    "# ~~~ ~~~ Data Description (TASK 3):\n",
    "\n",
    "The data is being given of available psychiatrists and ideal psychiatrists in various states of India in May-July 2002 along with bed availibility in govt as well as prvate sector.\n",
    "\n",
    "# ~~~~ ~~~~ Objective (Task 3):\n",
    "\n",
    "To check the psychiatrist deficit for states like Delhi, Karnataka, Maharashtra (as they have highest population) and prescribing remedies to government that can be taken to fill the gap of psychiatrist deficit."
   ]
  },
  {
   "cell_type": "markdown",
   "id": "1b1fa9df",
   "metadata": {},
   "source": [
    "### IMPORTING THE DATASET SAVED IN THE SYSTEM"
   ]
  },
  {
   "cell_type": "code",
   "execution_count": 53,
   "id": "4de2fcdb",
   "metadata": {},
   "outputs": [
    {
     "data": {
      "text/html": [
       "<div>\n",
       "<style scoped>\n",
       "    .dataframe tbody tr th:only-of-type {\n",
       "        vertical-align: middle;\n",
       "    }\n",
       "\n",
       "    .dataframe tbody tr th {\n",
       "        vertical-align: top;\n",
       "    }\n",
       "\n",
       "    .dataframe thead th {\n",
       "        text-align: right;\n",
       "    }\n",
       "</style>\n",
       "<table border=\"1\" class=\"dataframe\">\n",
       "  <thead>\n",
       "    <tr style=\"text-align: right;\">\n",
       "      <th></th>\n",
       "      <th>Population</th>\n",
       "      <th>Density/ Sq. KM</th>\n",
       "      <th>Bed available in Govt. Sector</th>\n",
       "      <th>Bed available in Pvt. Sector</th>\n",
       "      <th>Psychiatrists Available</th>\n",
       "      <th>Psychiatrists Ideal Req.</th>\n",
       "      <th>Psychiatrists Deficit</th>\n",
       "      <th>Total No. of beds</th>\n",
       "    </tr>\n",
       "    <tr>\n",
       "      <th>State/Union Territory in May and July 2002</th>\n",
       "      <th></th>\n",
       "      <th></th>\n",
       "      <th></th>\n",
       "      <th></th>\n",
       "      <th></th>\n",
       "      <th></th>\n",
       "      <th></th>\n",
       "      <th></th>\n",
       "    </tr>\n",
       "  </thead>\n",
       "  <tbody>\n",
       "    <tr>\n",
       "      <th>Andaman and Nicobar Islands</th>\n",
       "      <td>356265.0</td>\n",
       "      <td>43.0</td>\n",
       "      <td>10.0</td>\n",
       "      <td>0.0</td>\n",
       "      <td>1</td>\n",
       "      <td>4.0</td>\n",
       "      <td>3.0</td>\n",
       "      <td>10</td>\n",
       "    </tr>\n",
       "    <tr>\n",
       "      <th>Andhra Pradesh</th>\n",
       "      <td>75727541.0</td>\n",
       "      <td>275.0</td>\n",
       "      <td>1020.0</td>\n",
       "      <td>210.0</td>\n",
       "      <td>180</td>\n",
       "      <td>757.0</td>\n",
       "      <td>577.0</td>\n",
       "      <td>1230</td>\n",
       "    </tr>\n",
       "    <tr>\n",
       "      <th>Arunachal Pradesh</th>\n",
       "      <td>1091117.0</td>\n",
       "      <td>13.0</td>\n",
       "      <td>10.0</td>\n",
       "      <td>0.0</td>\n",
       "      <td>1</td>\n",
       "      <td>10.0</td>\n",
       "      <td>9.0</td>\n",
       "      <td>10</td>\n",
       "    </tr>\n",
       "    <tr>\n",
       "      <th>Assam</th>\n",
       "      <td>26638407.0</td>\n",
       "      <td>340.0</td>\n",
       "      <td>500.0</td>\n",
       "      <td>0.0</td>\n",
       "      <td>29</td>\n",
       "      <td>266.0</td>\n",
       "      <td>237.0</td>\n",
       "      <td>500</td>\n",
       "    </tr>\n",
       "    <tr>\n",
       "      <th>Bihar</th>\n",
       "      <td>82878796.0</td>\n",
       "      <td>880.0</td>\n",
       "      <td>0.0</td>\n",
       "      <td>0.0</td>\n",
       "      <td>28</td>\n",
       "      <td>828.0</td>\n",
       "      <td>800.0</td>\n",
       "      <td>0</td>\n",
       "    </tr>\n",
       "    <tr>\n",
       "      <th>Chandigarh</th>\n",
       "      <td>900914.0</td>\n",
       "      <td>7903.0</td>\n",
       "      <td>57.0</td>\n",
       "      <td>0.0</td>\n",
       "      <td>31</td>\n",
       "      <td>9.0</td>\n",
       "      <td>22.0</td>\n",
       "      <td>57</td>\n",
       "    </tr>\n",
       "    <tr>\n",
       "      <th>Chhattisgarh</th>\n",
       "      <td>20795956.0</td>\n",
       "      <td>154.0</td>\n",
       "      <td>10.0</td>\n",
       "      <td>3.0</td>\n",
       "      <td>15</td>\n",
       "      <td>207.0</td>\n",
       "      <td>192.0</td>\n",
       "      <td>13</td>\n",
       "    </tr>\n",
       "    <tr>\n",
       "      <th>Daman and Diu</th>\n",
       "      <td>158059.0</td>\n",
       "      <td>1411.0</td>\n",
       "      <td>10.0</td>\n",
       "      <td>0.0</td>\n",
       "      <td>1</td>\n",
       "      <td>4.0</td>\n",
       "      <td>3.0</td>\n",
       "      <td>10</td>\n",
       "    </tr>\n",
       "    <tr>\n",
       "      <th>Dadra and Nagar Haveli</th>\n",
       "      <td>220451.0</td>\n",
       "      <td>449.0</td>\n",
       "      <td>NaN</td>\n",
       "      <td>NaN</td>\n",
       "      <td>NaN</td>\n",
       "      <td>NaN</td>\n",
       "      <td>NaN</td>\n",
       "      <td>0</td>\n",
       "    </tr>\n",
       "    <tr>\n",
       "      <th>Delhi</th>\n",
       "      <td>13782976.0</td>\n",
       "      <td>9294.0</td>\n",
       "      <td>329.0</td>\n",
       "      <td>113.0</td>\n",
       "      <td>155</td>\n",
       "      <td>137.0</td>\n",
       "      <td>18.0</td>\n",
       "      <td>442</td>\n",
       "    </tr>\n",
       "    <tr>\n",
       "      <th>Goa</th>\n",
       "      <td>1343998.0</td>\n",
       "      <td>363.0</td>\n",
       "      <td>210.0</td>\n",
       "      <td>0.0</td>\n",
       "      <td>26</td>\n",
       "      <td>14.0</td>\n",
       "      <td>12.0</td>\n",
       "      <td>210</td>\n",
       "    </tr>\n",
       "    <tr>\n",
       "      <th>Gujarat</th>\n",
       "      <td>50596992.0</td>\n",
       "      <td>258.0</td>\n",
       "      <td>853.0</td>\n",
       "      <td>326.0</td>\n",
       "      <td>97</td>\n",
       "      <td>505.0</td>\n",
       "      <td>408.0</td>\n",
       "      <td>1179</td>\n",
       "    </tr>\n",
       "    <tr>\n",
       "      <th>Haryana</th>\n",
       "      <td>21082989.0</td>\n",
       "      <td>477.0</td>\n",
       "      <td>89.0</td>\n",
       "      <td>98.0</td>\n",
       "      <td>39</td>\n",
       "      <td>210.0</td>\n",
       "      <td>171.0</td>\n",
       "      <td>187</td>\n",
       "    </tr>\n",
       "    <tr>\n",
       "      <th>Himachal Pradesh</th>\n",
       "      <td>6077248.0</td>\n",
       "      <td>109.0</td>\n",
       "      <td>14.0</td>\n",
       "      <td>3.0</td>\n",
       "      <td>8</td>\n",
       "      <td>61.0</td>\n",
       "      <td>53.0</td>\n",
       "      <td>17</td>\n",
       "    </tr>\n",
       "    <tr>\n",
       "      <th>Jharkhand</th>\n",
       "      <td>26909428.0</td>\n",
       "      <td>338.0</td>\n",
       "      <td>1173.0</td>\n",
       "      <td>145.0</td>\n",
       "      <td>50</td>\n",
       "      <td>270.0</td>\n",
       "      <td>220.0</td>\n",
       "      <td>1318</td>\n",
       "    </tr>\n",
       "    <tr>\n",
       "      <th>Jammu and Kashmir</th>\n",
       "      <td>10069917.0</td>\n",
       "      <td>99.0</td>\n",
       "      <td>120.0</td>\n",
       "      <td>0.0</td>\n",
       "      <td>4</td>\n",
       "      <td>100.0</td>\n",
       "      <td>96.0</td>\n",
       "      <td>120</td>\n",
       "    </tr>\n",
       "    <tr>\n",
       "      <th>Karnataka</th>\n",
       "      <td>52733958.0</td>\n",
       "      <td>275.0</td>\n",
       "      <td>1341.0</td>\n",
       "      <td>1113.0</td>\n",
       "      <td>198</td>\n",
       "      <td>527.0</td>\n",
       "      <td>329.0</td>\n",
       "      <td>2454</td>\n",
       "    </tr>\n",
       "    <tr>\n",
       "      <th>Kerala</th>\n",
       "      <td>31838619.0</td>\n",
       "      <td>819.0</td>\n",
       "      <td>1937.0</td>\n",
       "      <td>1539.0</td>\n",
       "      <td>238</td>\n",
       "      <td>318.0</td>\n",
       "      <td>80.0</td>\n",
       "      <td>3476</td>\n",
       "    </tr>\n",
       "    <tr>\n",
       "      <th>Lakshadweep</th>\n",
       "      <td>60595.0</td>\n",
       "      <td>1894.0</td>\n",
       "      <td>0.0</td>\n",
       "      <td>0.0</td>\n",
       "      <td>-</td>\n",
       "      <td>1.0</td>\n",
       "      <td>1.0</td>\n",
       "      <td>0</td>\n",
       "    </tr>\n",
       "    <tr>\n",
       "      <th>Madhya Pradesh</th>\n",
       "      <td>60388118.0</td>\n",
       "      <td>196.0</td>\n",
       "      <td>592.0</td>\n",
       "      <td>0.0</td>\n",
       "      <td>12</td>\n",
       "      <td>603.0</td>\n",
       "      <td>591.0</td>\n",
       "      <td>592</td>\n",
       "    </tr>\n",
       "    <tr>\n",
       "      <th>Maharashtra</th>\n",
       "      <td>96752247.0</td>\n",
       "      <td>314.0</td>\n",
       "      <td>6073.0</td>\n",
       "      <td>652.0</td>\n",
       "      <td>486</td>\n",
       "      <td>967.0</td>\n",
       "      <td>481.0</td>\n",
       "      <td>6725</td>\n",
       "    </tr>\n",
       "    <tr>\n",
       "      <th>Manipur</th>\n",
       "      <td>2388634.0</td>\n",
       "      <td>107.0</td>\n",
       "      <td>10.0</td>\n",
       "      <td>0.0</td>\n",
       "      <td>6</td>\n",
       "      <td>24.0</td>\n",
       "      <td>18.0</td>\n",
       "      <td>10</td>\n",
       "    </tr>\n",
       "    <tr>\n",
       "      <th>Meghalaya</th>\n",
       "      <td>2306069.0</td>\n",
       "      <td>103.0</td>\n",
       "      <td>70.0</td>\n",
       "      <td>0.0</td>\n",
       "      <td>5</td>\n",
       "      <td>23.0</td>\n",
       "      <td>18.0</td>\n",
       "      <td>70</td>\n",
       "    </tr>\n",
       "    <tr>\n",
       "      <th>Mizoram</th>\n",
       "      <td>891058.0</td>\n",
       "      <td>93.0</td>\n",
       "      <td>14.0</td>\n",
       "      <td>0.0</td>\n",
       "      <td>4</td>\n",
       "      <td>9.0</td>\n",
       "      <td>5.0</td>\n",
       "      <td>14</td>\n",
       "    </tr>\n",
       "    <tr>\n",
       "      <th>Nagaland</th>\n",
       "      <td>1988636.0</td>\n",
       "      <td>120.0</td>\n",
       "      <td>25.0</td>\n",
       "      <td>0.0</td>\n",
       "      <td>5</td>\n",
       "      <td>20.0</td>\n",
       "      <td>15.0</td>\n",
       "      <td>25</td>\n",
       "    </tr>\n",
       "    <tr>\n",
       "      <th>Odisha</th>\n",
       "      <td>36706920.0</td>\n",
       "      <td>236.0</td>\n",
       "      <td>118.0</td>\n",
       "      <td>0.0</td>\n",
       "      <td>19</td>\n",
       "      <td>367.0</td>\n",
       "      <td>348.0</td>\n",
       "      <td>118</td>\n",
       "    </tr>\n",
       "    <tr>\n",
       "      <th>Puducherry</th>\n",
       "      <td>973829.0</td>\n",
       "      <td>2029.0</td>\n",
       "      <td>44.0</td>\n",
       "      <td>20.0</td>\n",
       "      <td>15</td>\n",
       "      <td>10.0</td>\n",
       "      <td>5.0</td>\n",
       "      <td>64</td>\n",
       "    </tr>\n",
       "    <tr>\n",
       "      <th>Punjab</th>\n",
       "      <td>24289296.0</td>\n",
       "      <td>482.0</td>\n",
       "      <td>580.0</td>\n",
       "      <td>267.0</td>\n",
       "      <td>89</td>\n",
       "      <td>242.0</td>\n",
       "      <td>153.0</td>\n",
       "      <td>847</td>\n",
       "    </tr>\n",
       "    <tr>\n",
       "      <th>Rajasthan</th>\n",
       "      <td>56473122.0</td>\n",
       "      <td>165.0</td>\n",
       "      <td>627.0</td>\n",
       "      <td>110.0</td>\n",
       "      <td>75</td>\n",
       "      <td>565.0</td>\n",
       "      <td>490.0</td>\n",
       "      <td>737</td>\n",
       "    </tr>\n",
       "    <tr>\n",
       "      <th>Sikkim</th>\n",
       "      <td>540493.0</td>\n",
       "      <td>78.0</td>\n",
       "      <td>20.0</td>\n",
       "      <td>12.0</td>\n",
       "      <td>2</td>\n",
       "      <td>5.0</td>\n",
       "      <td>3.0</td>\n",
       "      <td>32</td>\n",
       "    </tr>\n",
       "    <tr>\n",
       "      <th>Tamil Nadu</th>\n",
       "      <td>62110839.0</td>\n",
       "      <td>478.0</td>\n",
       "      <td>1800.0</td>\n",
       "      <td>0.0</td>\n",
       "      <td>262</td>\n",
       "      <td>621.0</td>\n",
       "      <td>359.0</td>\n",
       "      <td>1800</td>\n",
       "    </tr>\n",
       "    <tr>\n",
       "      <th>Tripura</th>\n",
       "      <td>3191168.0</td>\n",
       "      <td>304.0</td>\n",
       "      <td>16.0</td>\n",
       "      <td>0.0</td>\n",
       "      <td>9</td>\n",
       "      <td>31.0</td>\n",
       "      <td>22.0</td>\n",
       "      <td>16</td>\n",
       "    </tr>\n",
       "    <tr>\n",
       "      <th>Uttarakhand</th>\n",
       "      <td>8479562.0</td>\n",
       "      <td>159.0</td>\n",
       "      <td>0.0</td>\n",
       "      <td>0.0</td>\n",
       "      <td>6</td>\n",
       "      <td>84.0</td>\n",
       "      <td>78.0</td>\n",
       "      <td>0</td>\n",
       "    </tr>\n",
       "    <tr>\n",
       "      <th>Uttar Pradesh</th>\n",
       "      <td>166052859.0</td>\n",
       "      <td>689.0</td>\n",
       "      <td>1750.0</td>\n",
       "      <td>275.0</td>\n",
       "      <td>115</td>\n",
       "      <td>1660.0</td>\n",
       "      <td>1545.0</td>\n",
       "      <td>2025</td>\n",
       "    </tr>\n",
       "    <tr>\n",
       "      <th>West Bengal</th>\n",
       "      <td>80221171.0</td>\n",
       "      <td>904.0</td>\n",
       "      <td>1471.0</td>\n",
       "      <td>210.0</td>\n",
       "      <td>83</td>\n",
       "      <td>802.0</td>\n",
       "      <td>719.0</td>\n",
       "      <td>1681</td>\n",
       "    </tr>\n",
       "    <tr>\n",
       "      <th>INDIA</th>\n",
       "      <td>NaN</td>\n",
       "      <td>NaN</td>\n",
       "      <td>20893.0</td>\n",
       "      <td>5096.0</td>\n",
       "      <td>2219</td>\n",
       "      <td>9696.0</td>\n",
       "      <td>7477.0</td>\n",
       "      <td>25989</td>\n",
       "    </tr>\n",
       "  </tbody>\n",
       "</table>\n",
       "</div>"
      ],
      "text/plain": [
       "                                             Population  Density/ Sq. KM  \\\n",
       "State/Union Territory in May and July 2002                                 \n",
       "Andaman and Nicobar Islands                    356265.0             43.0   \n",
       "Andhra Pradesh                               75727541.0            275.0   \n",
       "Arunachal Pradesh                             1091117.0             13.0   \n",
       "Assam                                        26638407.0            340.0   \n",
       "Bihar                                        82878796.0            880.0   \n",
       "Chandigarh                                     900914.0           7903.0   \n",
       "Chhattisgarh                                 20795956.0            154.0   \n",
       "Daman and Diu                                  158059.0           1411.0   \n",
       "Dadra and Nagar Haveli                         220451.0            449.0   \n",
       "Delhi                                        13782976.0           9294.0   \n",
       "Goa                                           1343998.0            363.0   \n",
       "Gujarat                                      50596992.0            258.0   \n",
       "Haryana                                      21082989.0            477.0   \n",
       "Himachal Pradesh                              6077248.0            109.0   \n",
       "Jharkhand                                    26909428.0            338.0   \n",
       "Jammu and Kashmir                            10069917.0             99.0   \n",
       "Karnataka                                    52733958.0            275.0   \n",
       "Kerala                                       31838619.0            819.0   \n",
       "Lakshadweep                                     60595.0           1894.0   \n",
       "Madhya Pradesh                               60388118.0            196.0   \n",
       "Maharashtra                                  96752247.0            314.0   \n",
       "Manipur                                       2388634.0            107.0   \n",
       "Meghalaya                                     2306069.0            103.0   \n",
       "Mizoram                                        891058.0             93.0   \n",
       "Nagaland                                      1988636.0            120.0   \n",
       "Odisha                                       36706920.0            236.0   \n",
       "Puducherry                                     973829.0           2029.0   \n",
       "Punjab                                       24289296.0            482.0   \n",
       "Rajasthan                                    56473122.0            165.0   \n",
       "Sikkim                                         540493.0             78.0   \n",
       "Tamil Nadu                                   62110839.0            478.0   \n",
       "Tripura                                       3191168.0            304.0   \n",
       "Uttarakhand                                   8479562.0            159.0   \n",
       "Uttar Pradesh                               166052859.0            689.0   \n",
       "West Bengal                                  80221171.0            904.0   \n",
       "INDIA                                               NaN              NaN   \n",
       "\n",
       "                                            Bed available in Govt. Sector  \\\n",
       "State/Union Territory in May and July 2002                                  \n",
       "Andaman and Nicobar Islands                                          10.0   \n",
       "Andhra Pradesh                                                     1020.0   \n",
       "Arunachal Pradesh                                                    10.0   \n",
       "Assam                                                               500.0   \n",
       "Bihar                                                                 0.0   \n",
       "Chandigarh                                                           57.0   \n",
       "Chhattisgarh                                                         10.0   \n",
       "Daman and Diu                                                        10.0   \n",
       "Dadra and Nagar Haveli                                                NaN   \n",
       "Delhi                                                               329.0   \n",
       "Goa                                                                 210.0   \n",
       "Gujarat                                                             853.0   \n",
       "Haryana                                                              89.0   \n",
       "Himachal Pradesh                                                     14.0   \n",
       "Jharkhand                                                          1173.0   \n",
       "Jammu and Kashmir                                                   120.0   \n",
       "Karnataka                                                          1341.0   \n",
       "Kerala                                                             1937.0   \n",
       "Lakshadweep                                                           0.0   \n",
       "Madhya Pradesh                                                      592.0   \n",
       "Maharashtra                                                        6073.0   \n",
       "Manipur                                                              10.0   \n",
       "Meghalaya                                                            70.0   \n",
       "Mizoram                                                              14.0   \n",
       "Nagaland                                                             25.0   \n",
       "Odisha                                                              118.0   \n",
       "Puducherry                                                           44.0   \n",
       "Punjab                                                              580.0   \n",
       "Rajasthan                                                           627.0   \n",
       "Sikkim                                                               20.0   \n",
       "Tamil Nadu                                                         1800.0   \n",
       "Tripura                                                              16.0   \n",
       "Uttarakhand                                                           0.0   \n",
       "Uttar Pradesh                                                      1750.0   \n",
       "West Bengal                                                        1471.0   \n",
       "INDIA                                                             20893.0   \n",
       "\n",
       "                                            Bed available in Pvt. Sector  \\\n",
       "State/Union Territory in May and July 2002                                 \n",
       "Andaman and Nicobar Islands                                          0.0   \n",
       "Andhra Pradesh                                                     210.0   \n",
       "Arunachal Pradesh                                                    0.0   \n",
       "Assam                                                                0.0   \n",
       "Bihar                                                                0.0   \n",
       "Chandigarh                                                           0.0   \n",
       "Chhattisgarh                                                         3.0   \n",
       "Daman and Diu                                                        0.0   \n",
       "Dadra and Nagar Haveli                                               NaN   \n",
       "Delhi                                                              113.0   \n",
       "Goa                                                                  0.0   \n",
       "Gujarat                                                            326.0   \n",
       "Haryana                                                             98.0   \n",
       "Himachal Pradesh                                                     3.0   \n",
       "Jharkhand                                                          145.0   \n",
       "Jammu and Kashmir                                                    0.0   \n",
       "Karnataka                                                         1113.0   \n",
       "Kerala                                                            1539.0   \n",
       "Lakshadweep                                                          0.0   \n",
       "Madhya Pradesh                                                       0.0   \n",
       "Maharashtra                                                        652.0   \n",
       "Manipur                                                              0.0   \n",
       "Meghalaya                                                            0.0   \n",
       "Mizoram                                                              0.0   \n",
       "Nagaland                                                             0.0   \n",
       "Odisha                                                               0.0   \n",
       "Puducherry                                                          20.0   \n",
       "Punjab                                                             267.0   \n",
       "Rajasthan                                                          110.0   \n",
       "Sikkim                                                              12.0   \n",
       "Tamil Nadu                                                           0.0   \n",
       "Tripura                                                              0.0   \n",
       "Uttarakhand                                                          0.0   \n",
       "Uttar Pradesh                                                      275.0   \n",
       "West Bengal                                                        210.0   \n",
       "INDIA                                                             5096.0   \n",
       "\n",
       "                                           Psychiatrists Available  \\\n",
       "State/Union Territory in May and July 2002                           \n",
       "Andaman and Nicobar Islands                                      1   \n",
       "Andhra Pradesh                                                 180   \n",
       "Arunachal Pradesh                                                1   \n",
       "Assam                                                           29   \n",
       "Bihar                                                           28   \n",
       "Chandigarh                                                      31   \n",
       "Chhattisgarh                                                    15   \n",
       "Daman and Diu                                                    1   \n",
       "Dadra and Nagar Haveli                                         NaN   \n",
       "Delhi                                                          155   \n",
       "Goa                                                             26   \n",
       "Gujarat                                                         97   \n",
       "Haryana                                                         39   \n",
       "Himachal Pradesh                                                 8   \n",
       "Jharkhand                                                       50   \n",
       "Jammu and Kashmir                                                4   \n",
       "Karnataka                                                      198   \n",
       "Kerala                                                         238   \n",
       "Lakshadweep                                                      -   \n",
       "Madhya Pradesh                                                  12   \n",
       "Maharashtra                                                    486   \n",
       "Manipur                                                          6   \n",
       "Meghalaya                                                        5   \n",
       "Mizoram                                                          4   \n",
       "Nagaland                                                         5   \n",
       "Odisha                                                          19   \n",
       "Puducherry                                                      15   \n",
       "Punjab                                                          89   \n",
       "Rajasthan                                                       75   \n",
       "Sikkim                                                           2   \n",
       "Tamil Nadu                                                     262   \n",
       "Tripura                                                          9   \n",
       "Uttarakhand                                                      6   \n",
       "Uttar Pradesh                                                  115   \n",
       "West Bengal                                                     83   \n",
       "INDIA                                                         2219   \n",
       "\n",
       "                                            Psychiatrists Ideal Req.  \\\n",
       "State/Union Territory in May and July 2002                             \n",
       "Andaman and Nicobar Islands                                      4.0   \n",
       "Andhra Pradesh                                                 757.0   \n",
       "Arunachal Pradesh                                               10.0   \n",
       "Assam                                                          266.0   \n",
       "Bihar                                                          828.0   \n",
       "Chandigarh                                                       9.0   \n",
       "Chhattisgarh                                                   207.0   \n",
       "Daman and Diu                                                    4.0   \n",
       "Dadra and Nagar Haveli                                           NaN   \n",
       "Delhi                                                          137.0   \n",
       "Goa                                                             14.0   \n",
       "Gujarat                                                        505.0   \n",
       "Haryana                                                        210.0   \n",
       "Himachal Pradesh                                                61.0   \n",
       "Jharkhand                                                      270.0   \n",
       "Jammu and Kashmir                                              100.0   \n",
       "Karnataka                                                      527.0   \n",
       "Kerala                                                         318.0   \n",
       "Lakshadweep                                                      1.0   \n",
       "Madhya Pradesh                                                 603.0   \n",
       "Maharashtra                                                    967.0   \n",
       "Manipur                                                         24.0   \n",
       "Meghalaya                                                       23.0   \n",
       "Mizoram                                                          9.0   \n",
       "Nagaland                                                        20.0   \n",
       "Odisha                                                         367.0   \n",
       "Puducherry                                                      10.0   \n",
       "Punjab                                                         242.0   \n",
       "Rajasthan                                                      565.0   \n",
       "Sikkim                                                           5.0   \n",
       "Tamil Nadu                                                     621.0   \n",
       "Tripura                                                         31.0   \n",
       "Uttarakhand                                                     84.0   \n",
       "Uttar Pradesh                                                 1660.0   \n",
       "West Bengal                                                    802.0   \n",
       "INDIA                                                         9696.0   \n",
       "\n",
       "                                            Psychiatrists Deficit  \\\n",
       "State/Union Territory in May and July 2002                          \n",
       "Andaman and Nicobar Islands                                   3.0   \n",
       "Andhra Pradesh                                              577.0   \n",
       "Arunachal Pradesh                                             9.0   \n",
       "Assam                                                       237.0   \n",
       "Bihar                                                       800.0   \n",
       "Chandigarh                                                   22.0   \n",
       "Chhattisgarh                                                192.0   \n",
       "Daman and Diu                                                 3.0   \n",
       "Dadra and Nagar Haveli                                        NaN   \n",
       "Delhi                                                        18.0   \n",
       "Goa                                                          12.0   \n",
       "Gujarat                                                     408.0   \n",
       "Haryana                                                     171.0   \n",
       "Himachal Pradesh                                             53.0   \n",
       "Jharkhand                                                   220.0   \n",
       "Jammu and Kashmir                                            96.0   \n",
       "Karnataka                                                   329.0   \n",
       "Kerala                                                       80.0   \n",
       "Lakshadweep                                                   1.0   \n",
       "Madhya Pradesh                                              591.0   \n",
       "Maharashtra                                                 481.0   \n",
       "Manipur                                                      18.0   \n",
       "Meghalaya                                                    18.0   \n",
       "Mizoram                                                       5.0   \n",
       "Nagaland                                                     15.0   \n",
       "Odisha                                                      348.0   \n",
       "Puducherry                                                    5.0   \n",
       "Punjab                                                      153.0   \n",
       "Rajasthan                                                   490.0   \n",
       "Sikkim                                                        3.0   \n",
       "Tamil Nadu                                                  359.0   \n",
       "Tripura                                                      22.0   \n",
       "Uttarakhand                                                  78.0   \n",
       "Uttar Pradesh                                              1545.0   \n",
       "West Bengal                                                 719.0   \n",
       "INDIA                                                      7477.0   \n",
       "\n",
       "                                            Total No. of beds  \n",
       "State/Union Territory in May and July 2002                     \n",
       "Andaman and Nicobar Islands                                10  \n",
       "Andhra Pradesh                                           1230  \n",
       "Arunachal Pradesh                                          10  \n",
       "Assam                                                     500  \n",
       "Bihar                                                       0  \n",
       "Chandigarh                                                 57  \n",
       "Chhattisgarh                                               13  \n",
       "Daman and Diu                                              10  \n",
       "Dadra and Nagar Haveli                                      0  \n",
       "Delhi                                                     442  \n",
       "Goa                                                       210  \n",
       "Gujarat                                                  1179  \n",
       "Haryana                                                   187  \n",
       "Himachal Pradesh                                           17  \n",
       "Jharkhand                                                1318  \n",
       "Jammu and Kashmir                                         120  \n",
       "Karnataka                                                2454  \n",
       "Kerala                                                   3476  \n",
       "Lakshadweep                                                 0  \n",
       "Madhya Pradesh                                            592  \n",
       "Maharashtra                                              6725  \n",
       "Manipur                                                    10  \n",
       "Meghalaya                                                  70  \n",
       "Mizoram                                                    14  \n",
       "Nagaland                                                   25  \n",
       "Odisha                                                    118  \n",
       "Puducherry                                                 64  \n",
       "Punjab                                                    847  \n",
       "Rajasthan                                                 737  \n",
       "Sikkim                                                     32  \n",
       "Tamil Nadu                                               1800  \n",
       "Tripura                                                    16  \n",
       "Uttarakhand                                                 0  \n",
       "Uttar Pradesh                                            2025  \n",
       "West Bengal                                              1681  \n",
       "INDIA                                                   25989  "
      ]
     },
     "execution_count": 53,
     "metadata": {},
     "output_type": "execute_result"
    }
   ],
   "source": [
    "may_july_2002 = pd.read_excel('State wise data May-July 2002.xlsx',index_col=\"State/Union Territory in May and July 2002\")\n",
    "may_july_2002a = pd.read_excel('State wise data May-July 2002.xlsx')\n",
    "may_july_2002"
   ]
  },
  {
   "cell_type": "markdown",
   "id": "d41723fb",
   "metadata": {},
   "source": [
    "## Descriptive Analysis"
   ]
  },
  {
   "cell_type": "code",
   "execution_count": 79,
   "id": "be18167d",
   "metadata": {},
   "outputs": [
    {
     "name": "stdout",
     "output_type": "stream",
     "text": [
      "(36, 8)\n",
      "<class 'pandas.core.frame.DataFrame'>\n"
     ]
    }
   ],
   "source": [
    "# Dimensions (Rows and columns)\n",
    "print(may_july_2002.shape)\n",
    "print(type(may_july_2002))"
   ]
  },
  {
   "cell_type": "code",
   "execution_count": 80,
   "id": "e0acde03",
   "metadata": {},
   "outputs": [
    {
     "data": {
      "text/html": [
       "<div>\n",
       "<style scoped>\n",
       "    .dataframe tbody tr th:only-of-type {\n",
       "        vertical-align: middle;\n",
       "    }\n",
       "\n",
       "    .dataframe tbody tr th {\n",
       "        vertical-align: top;\n",
       "    }\n",
       "\n",
       "    .dataframe thead th {\n",
       "        text-align: right;\n",
       "    }\n",
       "</style>\n",
       "<table border=\"1\" class=\"dataframe\">\n",
       "  <thead>\n",
       "    <tr style=\"text-align: right;\">\n",
       "      <th></th>\n",
       "      <th>Population</th>\n",
       "      <th>Density/ Sq. KM</th>\n",
       "      <th>Bed available in Govt. Sector</th>\n",
       "      <th>Bed available in Pvt. Sector</th>\n",
       "      <th>Psychiatrists Ideal Req.</th>\n",
       "      <th>Psychiatrists Deficit</th>\n",
       "      <th>Total No. of beds</th>\n",
       "    </tr>\n",
       "  </thead>\n",
       "  <tbody>\n",
       "    <tr>\n",
       "      <th>count</th>\n",
       "      <td>3.500000e+01</td>\n",
       "      <td>35.000000</td>\n",
       "      <td>35.000000</td>\n",
       "      <td>35.000000</td>\n",
       "      <td>35.000000</td>\n",
       "      <td>35.000000</td>\n",
       "      <td>36.000000</td>\n",
       "    </tr>\n",
       "    <tr>\n",
       "      <th>mean</th>\n",
       "      <td>2.934338e+07</td>\n",
       "      <td>910.028571</td>\n",
       "      <td>1193.885714</td>\n",
       "      <td>291.200000</td>\n",
       "      <td>570.200000</td>\n",
       "      <td>444.514286</td>\n",
       "      <td>1443.833333</td>\n",
       "    </tr>\n",
       "    <tr>\n",
       "      <th>std</th>\n",
       "      <td>3.740287e+07</td>\n",
       "      <td>1986.633444</td>\n",
       "      <td>3606.376850</td>\n",
       "      <td>898.219638</td>\n",
       "      <td>1630.538522</td>\n",
       "      <td>1265.296789</td>\n",
       "      <td>4410.041539</td>\n",
       "    </tr>\n",
       "    <tr>\n",
       "      <th>min</th>\n",
       "      <td>6.059500e+04</td>\n",
       "      <td>13.000000</td>\n",
       "      <td>0.000000</td>\n",
       "      <td>0.000000</td>\n",
       "      <td>1.000000</td>\n",
       "      <td>1.000000</td>\n",
       "      <td>0.000000</td>\n",
       "    </tr>\n",
       "    <tr>\n",
       "      <th>25%</th>\n",
       "      <td>1.217558e+06</td>\n",
       "      <td>137.000000</td>\n",
       "      <td>14.000000</td>\n",
       "      <td>0.000000</td>\n",
       "      <td>17.000000</td>\n",
       "      <td>16.500000</td>\n",
       "      <td>13.750000</td>\n",
       "    </tr>\n",
       "    <tr>\n",
       "      <th>50%</th>\n",
       "      <td>1.378298e+07</td>\n",
       "      <td>304.000000</td>\n",
       "      <td>118.000000</td>\n",
       "      <td>0.000000</td>\n",
       "      <td>207.000000</td>\n",
       "      <td>96.000000</td>\n",
       "      <td>119.000000</td>\n",
       "    </tr>\n",
       "    <tr>\n",
       "      <th>75%</th>\n",
       "      <td>5.166548e+07</td>\n",
       "      <td>585.500000</td>\n",
       "      <td>936.500000</td>\n",
       "      <td>177.500000</td>\n",
       "      <td>546.000000</td>\n",
       "      <td>383.500000</td>\n",
       "      <td>1191.750000</td>\n",
       "    </tr>\n",
       "    <tr>\n",
       "      <th>max</th>\n",
       "      <td>1.660529e+08</td>\n",
       "      <td>9294.000000</td>\n",
       "      <td>20893.000000</td>\n",
       "      <td>5096.000000</td>\n",
       "      <td>9696.000000</td>\n",
       "      <td>7477.000000</td>\n",
       "      <td>25989.000000</td>\n",
       "    </tr>\n",
       "  </tbody>\n",
       "</table>\n",
       "</div>"
      ],
      "text/plain": [
       "         Population  Density/ Sq. KM  Bed available in Govt. Sector  \\\n",
       "count  3.500000e+01        35.000000                      35.000000   \n",
       "mean   2.934338e+07       910.028571                    1193.885714   \n",
       "std    3.740287e+07      1986.633444                    3606.376850   \n",
       "min    6.059500e+04        13.000000                       0.000000   \n",
       "25%    1.217558e+06       137.000000                      14.000000   \n",
       "50%    1.378298e+07       304.000000                     118.000000   \n",
       "75%    5.166548e+07       585.500000                     936.500000   \n",
       "max    1.660529e+08      9294.000000                   20893.000000   \n",
       "\n",
       "       Bed available in Pvt. Sector  Psychiatrists Ideal Req.  \\\n",
       "count                     35.000000                 35.000000   \n",
       "mean                     291.200000                570.200000   \n",
       "std                      898.219638               1630.538522   \n",
       "min                        0.000000                  1.000000   \n",
       "25%                        0.000000                 17.000000   \n",
       "50%                        0.000000                207.000000   \n",
       "75%                      177.500000                546.000000   \n",
       "max                     5096.000000               9696.000000   \n",
       "\n",
       "       Psychiatrists Deficit  Total No. of beds  \n",
       "count              35.000000          36.000000  \n",
       "mean              444.514286        1443.833333  \n",
       "std              1265.296789        4410.041539  \n",
       "min                 1.000000           0.000000  \n",
       "25%                16.500000          13.750000  \n",
       "50%                96.000000         119.000000  \n",
       "75%               383.500000        1191.750000  \n",
       "max              7477.000000       25989.000000  "
      ]
     },
     "execution_count": 80,
     "metadata": {},
     "output_type": "execute_result"
    }
   ],
   "source": [
    "# Displaying statistical parameters of Numerical values of dataframe\n",
    "may_july_2002.describe()"
   ]
  },
  {
   "cell_type": "code",
   "execution_count": 81,
   "id": "2e854360",
   "metadata": {},
   "outputs": [
    {
     "name": "stdout",
     "output_type": "stream",
     "text": [
      "<class 'pandas.core.frame.DataFrame'>\n",
      "Index: 36 entries, Andaman and Nicobar Islands to INDIA\n",
      "Data columns (total 8 columns):\n",
      " #   Column                         Non-Null Count  Dtype  \n",
      "---  ------                         --------------  -----  \n",
      " 0   Population                     35 non-null     float64\n",
      " 1   Density/ Sq. KM                35 non-null     float64\n",
      " 2   Bed available in Govt. Sector  35 non-null     float64\n",
      " 3   Bed available in Pvt. Sector   35 non-null     float64\n",
      " 4   Psychiatrists Available        35 non-null     object \n",
      " 5   Psychiatrists Ideal Req.       35 non-null     float64\n",
      " 6   Psychiatrists Deficit          35 non-null     float64\n",
      " 7   Total No. of beds              36 non-null     int64  \n",
      "dtypes: float64(6), int64(1), object(1)\n",
      "memory usage: 2.5+ KB\n"
     ]
    }
   ],
   "source": [
    "# For checking datatypes of all columns along with additional information\n",
    "\n",
    "may_july_2002.info()"
   ]
  },
  {
   "cell_type": "markdown",
   "id": "c9433e4b",
   "metadata": {},
   "source": [
    "# ~~~ EDA"
   ]
  },
  {
   "cell_type": "markdown",
   "id": "8a3a00ce",
   "metadata": {},
   "source": [
    "**Checking missing values in the dataset.**"
   ]
  },
  {
   "cell_type": "code",
   "execution_count": 40,
   "id": "cdfe56fe",
   "metadata": {},
   "outputs": [
    {
     "data": {
      "text/plain": [
       "Population                       1\n",
       "Density/ Sq. KM                  1\n",
       "Bed available in Govt. Sector    1\n",
       "Bed available in Pvt. Sector     1\n",
       "Psychiatrists Available          1\n",
       "Psychiatrists Ideal Req.         1\n",
       "Psychiatrists Deficit            1\n",
       "Total No. of beds                0\n",
       "dtype: int64"
      ]
     },
     "execution_count": 40,
     "metadata": {},
     "output_type": "execute_result"
    }
   ],
   "source": [
    "may_july_2002.isnull().sum()"
   ]
  },
  {
   "cell_type": "markdown",
   "id": "db50889c",
   "metadata": {},
   "source": [
    "# ~~~ Data Cleaning"
   ]
  },
  {
   "cell_type": "markdown",
   "id": "e8049610",
   "metadata": {},
   "source": [
    "**Replacing missing values with average of that column**"
   ]
  },
  {
   "cell_type": "code",
   "execution_count": 55,
   "id": "0d3d2496",
   "metadata": {},
   "outputs": [
    {
     "data": {
      "text/plain": [
       "Population                       0\n",
       "Density/ Sq. KM                  0\n",
       "Bed available in Govt. Sector    0\n",
       "Bed available in Pvt. Sector     0\n",
       "Psychiatrists Available          1\n",
       "Psychiatrists Ideal Req.         0\n",
       "Psychiatrists Deficit            0\n",
       "Total No. of beds                0\n",
       "dtype: int64"
      ]
     },
     "execution_count": 55,
     "metadata": {},
     "output_type": "execute_result"
    }
   ],
   "source": [
    "#df['S2'].fillna(value=df['S2'].mean(), inplace=True)\n",
    "may_july_2002['Population'].fillna(value=may_july_2002['Population'].mean(), inplace=True)\n",
    "may_july_2002['Density/ Sq. KM'].fillna(value=may_july_2002['Density/ Sq. KM'].mean(), inplace=True)\n",
    "may_july_2002['Bed available in Govt. Sector'].fillna(value=may_july_2002['Bed available in Govt. Sector'].mean(), inplace=True)\n",
    "may_july_2002['Bed available in Pvt. Sector'].fillna(value=may_july_2002['Bed available in Pvt. Sector'].mean(), inplace=True)\n",
    "may_july_2002['Psychiatrists Ideal Req.'].fillna(value=may_july_2002['Psychiatrists Ideal Req.'].mean(), inplace=True)\n",
    "may_july_2002['Psychiatrists Deficit'].fillna(value=may_july_2002['Psychiatrists Deficit'].mean(), inplace=True)\n",
    "\n",
    "may_july_2002.isnull().sum()"
   ]
  },
  {
   "cell_type": "markdown",
   "id": "8aaf7cf2",
   "metadata": {},
   "source": [
    "**Still there is one missing value and it is because \"Psychiatrists Available\" is in object datatype.**\n",
    "**So we'll fill that value with zero**"
   ]
  },
  {
   "cell_type": "code",
   "execution_count": 56,
   "id": "5cd6e84e",
   "metadata": {},
   "outputs": [
    {
     "data": {
      "text/plain": [
       "State/Union Territory in May and July 2002\n",
       "Andaman and Nicobar Islands       1\n",
       "Andhra Pradesh                  180\n",
       "Arunachal Pradesh                 1\n",
       "Assam                            29\n",
       "Bihar                            28\n",
       "Chandigarh                       31\n",
       "Chhattisgarh                     15\n",
       "Daman and Diu                     1\n",
       "Dadra and Nagar Haveli            0\n",
       "Delhi                           155\n",
       "Goa                              26\n",
       "Gujarat                          97\n",
       "Haryana                          39\n",
       "Himachal Pradesh                  8\n",
       "Jharkhand                        50\n",
       "Jammu and Kashmir                 4\n",
       "Karnataka                       198\n",
       "Kerala                          238\n",
       "Lakshadweep                       -\n",
       "Madhya Pradesh                   12\n",
       "Maharashtra                     486\n",
       "Manipur                           6\n",
       "Meghalaya                         5\n",
       "Mizoram                           4\n",
       "Nagaland                          5\n",
       "Odisha                           19\n",
       "Puducherry                       15\n",
       "Punjab                           89\n",
       "Rajasthan                        75\n",
       "Sikkim                            2\n",
       "Tamil Nadu                      262\n",
       "Tripura                           9\n",
       "Uttarakhand                       6\n",
       "Uttar Pradesh                   115\n",
       "West Bengal                      83\n",
       "INDIA                          2219\n",
       "Name: Psychiatrists Available, dtype: object"
      ]
     },
     "execution_count": 56,
     "metadata": {},
     "output_type": "execute_result"
    }
   ],
   "source": [
    "may_july_2002['Psychiatrists Available'].fillna(0)"
   ]
  },
  {
   "cell_type": "markdown",
   "id": "dfd96318",
   "metadata": {},
   "source": [
    "# ~~~ Scatter diagram"
   ]
  },
  {
   "cell_type": "code",
   "execution_count": 72,
   "id": "1aaf65c8",
   "metadata": {},
   "outputs": [
    {
     "data": {
      "text/plain": [
       "<AxesSubplot:xlabel='Density/ Sq. KM', ylabel='Total No. of beds'>"
      ]
     },
     "execution_count": 72,
     "metadata": {},
     "output_type": "execute_result"
    },
    {
     "data": {
      "image/png": "[encoded data removed]",
      "text/plain": [
       "<Figure size 432x288 with 1 Axes>"
      ]
     },
     "metadata": {
      "needs_background": "light"
     },
     "output_type": "display_data"
    }
   ],
   "source": [
    "sns.scatterplot(data =may_july_2002 ,x = \"Density/ Sq. KM\",y = \"Total No. of beds\")"
   ]
  },
  {
   "cell_type": "code",
   "execution_count": 39,
   "id": "e05a8f39",
   "metadata": {},
   "outputs": [
    {
     "data": {
      "text/plain": [
       "<AxesSubplot:xlabel='Population', ylabel='Total No. of beds'>"
      ]
     },
     "execution_count": 39,
     "metadata": {},
     "output_type": "execute_result"
    },
    {
     "data": {
      "image/png": "[encoded data removed]",
      "text/plain": [
       "<Figure size 432x288 with 1 Axes>"
      ]
     },
     "metadata": {
      "needs_background": "light"
     },
     "output_type": "display_data"
    }
   ],
   "source": [
    "sns.scatterplot(data =may_july_2002 ,x = \"Population\",y = \"Total No. of beds\")"
   ]
  },
  {
   "cell_type": "markdown",
   "id": "c47ecb3d",
   "metadata": {},
   "source": [
    "### CORRELATION MODEL"
   ]
  },
  {
   "cell_type": "code",
   "execution_count": 40,
   "id": "5e4c6a0f",
   "metadata": {},
   "outputs": [
    {
     "data": {
      "text/html": [
       "<div>\n",
       "<style scoped>\n",
       "    .dataframe tbody tr th:only-of-type {\n",
       "        vertical-align: middle;\n",
       "    }\n",
       "\n",
       "    .dataframe tbody tr th {\n",
       "        vertical-align: top;\n",
       "    }\n",
       "\n",
       "    .dataframe thead th {\n",
       "        text-align: right;\n",
       "    }\n",
       "</style>\n",
       "<table border=\"1\" class=\"dataframe\">\n",
       "  <thead>\n",
       "    <tr style=\"text-align: right;\">\n",
       "      <th></th>\n",
       "      <th>Population</th>\n",
       "      <th>Density/ Sq. KM</th>\n",
       "      <th>Bed available in Govt. Sector</th>\n",
       "      <th>Bed available in Pvt. Sector</th>\n",
       "      <th>Psychiatrists Ideal Req.</th>\n",
       "      <th>Psychiatrists Deficit</th>\n",
       "      <th>Total No. of beds</th>\n",
       "    </tr>\n",
       "  </thead>\n",
       "  <tbody>\n",
       "    <tr>\n",
       "      <th>Population</th>\n",
       "      <td>1.000000</td>\n",
       "      <td>-0.128367</td>\n",
       "      <td>0.617934</td>\n",
       "      <td>0.319321</td>\n",
       "      <td>0.999998</td>\n",
       "      <td>0.965767</td>\n",
       "      <td>0.602978</td>\n",
       "    </tr>\n",
       "    <tr>\n",
       "      <th>Density/ Sq. KM</th>\n",
       "      <td>-0.128367</td>\n",
       "      <td>1.000000</td>\n",
       "      <td>-0.088282</td>\n",
       "      <td>-0.048691</td>\n",
       "      <td>-0.135261</td>\n",
       "      <td>-0.151037</td>\n",
       "      <td>-0.081851</td>\n",
       "    </tr>\n",
       "    <tr>\n",
       "      <th>Bed available in Govt. Sector</th>\n",
       "      <td>0.617934</td>\n",
       "      <td>-0.088282</td>\n",
       "      <td>1.000000</td>\n",
       "      <td>0.948450</td>\n",
       "      <td>0.969249</td>\n",
       "      <td>0.952061</td>\n",
       "      <td>0.997968</td>\n",
       "    </tr>\n",
       "    <tr>\n",
       "      <th>Bed available in Pvt. Sector</th>\n",
       "      <td>0.319321</td>\n",
       "      <td>-0.048691</td>\n",
       "      <td>0.948450</td>\n",
       "      <td>1.000000</td>\n",
       "      <td>0.932957</td>\n",
       "      <td>0.914860</td>\n",
       "      <td>0.966718</td>\n",
       "    </tr>\n",
       "    <tr>\n",
       "      <th>Psychiatrists Ideal Req.</th>\n",
       "      <td>0.999998</td>\n",
       "      <td>-0.135261</td>\n",
       "      <td>0.969249</td>\n",
       "      <td>0.932957</td>\n",
       "      <td>1.000000</td>\n",
       "      <td>0.997629</td>\n",
       "      <td>0.970028</td>\n",
       "    </tr>\n",
       "    <tr>\n",
       "      <th>Psychiatrists Deficit</th>\n",
       "      <td>0.965767</td>\n",
       "      <td>-0.151037</td>\n",
       "      <td>0.952061</td>\n",
       "      <td>0.914860</td>\n",
       "      <td>0.997629</td>\n",
       "      <td>1.000000</td>\n",
       "      <td>0.952515</td>\n",
       "    </tr>\n",
       "    <tr>\n",
       "      <th>Total No. of beds</th>\n",
       "      <td>0.602978</td>\n",
       "      <td>-0.081851</td>\n",
       "      <td>0.997968</td>\n",
       "      <td>0.966718</td>\n",
       "      <td>0.970028</td>\n",
       "      <td>0.952515</td>\n",
       "      <td>1.000000</td>\n",
       "    </tr>\n",
       "  </tbody>\n",
       "</table>\n",
       "</div>"
      ],
      "text/plain": [
       "                               Population  Density/ Sq. KM  \\\n",
       "Population                       1.000000        -0.128367   \n",
       "Density/ Sq. KM                 -0.128367         1.000000   \n",
       "Bed available in Govt. Sector    0.617934        -0.088282   \n",
       "Bed available in Pvt. Sector     0.319321        -0.048691   \n",
       "Psychiatrists Ideal Req.         0.999998        -0.135261   \n",
       "Psychiatrists Deficit            0.965767        -0.151037   \n",
       "Total No. of beds                0.602978        -0.081851   \n",
       "\n",
       "                               Bed available in Govt. Sector  \\\n",
       "Population                                          0.617934   \n",
       "Density/ Sq. KM                                    -0.088282   \n",
       "Bed available in Govt. Sector                       1.000000   \n",
       "Bed available in Pvt. Sector                        0.948450   \n",
       "Psychiatrists Ideal Req.                            0.969249   \n",
       "Psychiatrists Deficit                               0.952061   \n",
       "Total No. of beds                                   0.997968   \n",
       "\n",
       "                               Bed available in Pvt. Sector  \\\n",
       "Population                                         0.319321   \n",
       "Density/ Sq. KM                                   -0.048691   \n",
       "Bed available in Govt. Sector                      0.948450   \n",
       "Bed available in Pvt. Sector                       1.000000   \n",
       "Psychiatrists Ideal Req.                           0.932957   \n",
       "Psychiatrists Deficit                              0.914860   \n",
       "Total No. of beds                                  0.966718   \n",
       "\n",
       "                               Psychiatrists Ideal Req.  \\\n",
       "Population                                     0.999998   \n",
       "Density/ Sq. KM                               -0.135261   \n",
       "Bed available in Govt. Sector                  0.969249   \n",
       "Bed available in Pvt. Sector                   0.932957   \n",
       "Psychiatrists Ideal Req.                       1.000000   \n",
       "Psychiatrists Deficit                          0.997629   \n",
       "Total No. of beds                              0.970028   \n",
       "\n",
       "                               Psychiatrists Deficit  Total No. of beds  \n",
       "Population                                  0.965767           0.602978  \n",
       "Density/ Sq. KM                            -0.151037          -0.081851  \n",
       "Bed available in Govt. Sector               0.952061           0.997968  \n",
       "Bed available in Pvt. Sector                0.914860           0.966718  \n",
       "Psychiatrists Ideal Req.                    0.997629           0.970028  \n",
       "Psychiatrists Deficit                       1.000000           0.952515  \n",
       "Total No. of beds                           0.952515           1.000000  "
      ]
     },
     "execution_count": 40,
     "metadata": {},
     "output_type": "execute_result"
    }
   ],
   "source": [
    "may_july_2002.corr()"
   ]
  },
  {
   "cell_type": "code",
   "execution_count": 73,
   "id": "d23c30e3",
   "metadata": {},
   "outputs": [
    {
     "data": {
      "text/plain": [
       "<AxesSubplot:>"
      ]
     },
     "execution_count": 73,
     "metadata": {},
     "output_type": "execute_result"
    },
    {
     "data": {
      "image/png": "[encoded data removed]",
      "text/plain": [
       "<Figure size 648x648 with 2 Axes>"
      ]
     },
     "metadata": {
      "needs_background": "light"
     },
     "output_type": "display_data"
    }
   ],
   "source": [
    "plt.figure(figsize=(9,9))\n",
    "sns.heatmap(may_july_2002.corr(), annot=True)"
   ]
  },
  {
   "cell_type": "markdown",
   "id": "07e7bb53",
   "metadata": {},
   "source": [
    "**INTERPRETATION:**\n",
    "\n",
    "We can see from above correlation model that there is strong positive Correlation between Beds in Govt Sector and Psychiatrists deficit. Also, there can seen different degrees of correlation among various variables."
   ]
  },
  {
   "cell_type": "code",
   "execution_count": 82,
   "id": "ba940206",
   "metadata": {},
   "outputs": [],
   "source": [
    "# As, the top three states with highest population are \"Delhi\",\"Maharashtra\" and \"Karnataka\",\n",
    "# we'll extract information from these rows only.\n",
    "\n",
    "delhi = pd.DataFrame(may_july_2002.loc[\"Delhi\"])\n",
    "karnataka = pd.DataFrame(may_july_2002.loc[\"Karnataka\"])\n",
    "maharashtra = pd.DataFrame(may_july_2002.loc[\"Maharashtra\"])\n",
    "\n",
    "# Concating these rows of 3 states.\n",
    "\n",
    "merged = pd.concat([delhi,karnataka,maharashtra],axis=1,join=\"inner\")\n",
    "m = merged.transpose()"
   ]
  },
  {
   "cell_type": "code",
   "execution_count": 83,
   "id": "15e11398",
   "metadata": {},
   "outputs": [
    {
     "data": {
      "text/html": [
       "<div>\n",
       "<style scoped>\n",
       "    .dataframe tbody tr th:only-of-type {\n",
       "        vertical-align: middle;\n",
       "    }\n",
       "\n",
       "    .dataframe tbody tr th {\n",
       "        vertical-align: top;\n",
       "    }\n",
       "\n",
       "    .dataframe thead th {\n",
       "        text-align: right;\n",
       "    }\n",
       "</style>\n",
       "<table border=\"1\" class=\"dataframe\">\n",
       "  <thead>\n",
       "    <tr style=\"text-align: right;\">\n",
       "      <th></th>\n",
       "      <th>Population</th>\n",
       "      <th>Density/ Sq. KM</th>\n",
       "      <th>Bed available in Govt. Sector</th>\n",
       "      <th>Bed available in Pvt. Sector</th>\n",
       "      <th>Psychiatrists Available</th>\n",
       "      <th>Psychiatrists Ideal Req.</th>\n",
       "      <th>Psychiatrists Deficit</th>\n",
       "      <th>Total No. of beds</th>\n",
       "    </tr>\n",
       "    <tr>\n",
       "      <th>state</th>\n",
       "      <th></th>\n",
       "      <th></th>\n",
       "      <th></th>\n",
       "      <th></th>\n",
       "      <th></th>\n",
       "      <th></th>\n",
       "      <th></th>\n",
       "      <th></th>\n",
       "    </tr>\n",
       "  </thead>\n",
       "  <tbody>\n",
       "    <tr>\n",
       "      <th>Delhi</th>\n",
       "      <td>13782976.0</td>\n",
       "      <td>9294.0</td>\n",
       "      <td>329.0</td>\n",
       "      <td>113.0</td>\n",
       "      <td>155</td>\n",
       "      <td>137.0</td>\n",
       "      <td>18.0</td>\n",
       "      <td>442</td>\n",
       "    </tr>\n",
       "    <tr>\n",
       "      <th>Karnataka</th>\n",
       "      <td>52733958.0</td>\n",
       "      <td>275.0</td>\n",
       "      <td>1341.0</td>\n",
       "      <td>1113.0</td>\n",
       "      <td>198</td>\n",
       "      <td>527.0</td>\n",
       "      <td>329.0</td>\n",
       "      <td>2454</td>\n",
       "    </tr>\n",
       "    <tr>\n",
       "      <th>Maharashtra</th>\n",
       "      <td>96752247.0</td>\n",
       "      <td>314.0</td>\n",
       "      <td>6073.0</td>\n",
       "      <td>652.0</td>\n",
       "      <td>486</td>\n",
       "      <td>967.0</td>\n",
       "      <td>481.0</td>\n",
       "      <td>6725</td>\n",
       "    </tr>\n",
       "  </tbody>\n",
       "</table>\n",
       "</div>"
      ],
      "text/plain": [
       "             Population Density/ Sq. KM Bed available in Govt. Sector  \\\n",
       "state                                                                   \n",
       "Delhi        13782976.0          9294.0                         329.0   \n",
       "Karnataka    52733958.0           275.0                        1341.0   \n",
       "Maharashtra  96752247.0           314.0                        6073.0   \n",
       "\n",
       "            Bed available in Pvt. Sector Psychiatrists Available  \\\n",
       "state                                                              \n",
       "Delhi                              113.0                     155   \n",
       "Karnataka                         1113.0                     198   \n",
       "Maharashtra                        652.0                     486   \n",
       "\n",
       "            Psychiatrists Ideal Req. Psychiatrists Deficit Total No. of beds  \n",
       "state                                                                         \n",
       "Delhi                          137.0                  18.0               442  \n",
       "Karnataka                      527.0                 329.0              2454  \n",
       "Maharashtra                    967.0                 481.0              6725  "
      ]
     },
     "execution_count": 83,
     "metadata": {},
     "output_type": "execute_result"
    }
   ],
   "source": [
    "# Indexing wrt to state name.\n",
    "m.index.name='state'\n",
    "m"
   ]
  },
  {
   "cell_type": "markdown",
   "id": "ca92539b",
   "metadata": {},
   "source": [
    "# Data Visualization"
   ]
  },
  {
   "cell_type": "code",
   "execution_count": 90,
   "id": "3f93c277",
   "metadata": {},
   "outputs": [
    {
     "data": {
      "text/plain": [
       "[Text(0, 0, 'Delhi'), Text(1, 0, 'Karnataka'), Text(2, 0, 'Maharashtra')]"
      ]
     },
     "execution_count": 90,
     "metadata": {},
     "output_type": "execute_result"
    },
    {
     "data": {
      "image/png": "[encoded data removed]",
      "text/plain": [
       "<Figure size 432x288 with 1 Axes>"
      ]
     },
     "metadata": {
      "needs_background": "light"
     },
     "output_type": "display_data"
    }
   ],
   "source": [
    "import matplotlib.pyplot as plt\n",
    "import numpy as np\n",
    "df=pd.DataFrame(m,columns=[\"state\",\"Psychiatrists Available\",\"Psychiatrists Deficit\",\"Psychiatrists Ideal Req.\"])\n",
    "ax=df.plot(x=\"state\",y=\"Psychiatrists Ideal Req.\",kind=\"bar\")\n",
    "df.plot(x=\"state\",y=\"Psychiatrists Available\",kind=\"bar\",ax=ax,color=\"C2\")\n",
    "df.plot(x=\"state\",y=\"Psychiatrists Deficit\",kind=\"bar\",ax=ax,color=\"C3\")\n",
    "labels = ['Delhi','Karnataka','Maharashtra']\n",
    "ax.set_xticklabels(labels)"
   ]
  },
  {
   "cell_type": "markdown",
   "id": "7ca0669a",
   "metadata": {},
   "source": [
    "**INTERPRETATION:**\n",
    "In the above stacked graph we can see Psychiatrists Available, Psychiatrists Deficit and Psychiatrists Ideal Requirement for states like DELHI, KARNATAKA and MAHARASHTRA."
   ]
  },
  {
   "cell_type": "markdown",
   "id": "c663b77d",
   "metadata": {},
   "source": [
    "# <center> Feature engineering"
   ]
  },
  {
   "cell_type": "markdown",
   "id": "25105d62",
   "metadata": {},
   "source": [
    "**Adding another column as the provided is in the form of absolute**"
   ]
  },
  {
   "cell_type": "code",
   "execution_count": 89,
   "id": "acd8b0ce",
   "metadata": {},
   "outputs": [
    {
     "name": "stdout",
     "output_type": "stream",
     "text": [
      "            Psychiatrists Available Psychiatrists Ideal Req.  \\\n",
      "state                                                          \n",
      "Delhi                           155                    137.0   \n",
      "Karnataka                       198                    527.0   \n",
      "Maharashtra                     486                    967.0   \n",
      "\n",
      "             Psychiatrists Ideal Req.-Psychiatrists Available  \n",
      "state                                                          \n",
      "Delhi                                                   -18.0  \n",
      "Karnataka                                               329.0  \n",
      "Maharashtra                                             481.0  \n"
     ]
    }
   ],
   "source": [
    "df=pd.DataFrame(m,columns=[\"Psychiatrists Available\",\"Psychiatrists Ideal Req.\"])\n",
    "df[\"Psychiatrists Ideal Req.-Psychiatrists Available\"]=df.apply(lambda x: x[\"Psychiatrists Ideal Req.\"]-x[\"Psychiatrists Available\"],axis=1)\n",
    "print(df)"
   ]
  },
  {
   "cell_type": "markdown",
   "id": "172dd36e",
   "metadata": {},
   "source": [
    "**INTERPRETATION:**\n",
    "\n",
    "    Here we can see that for Karnataka,Maharashtra  there is Psychiatrists deficit of 329 and 481 respectively.These States\n",
    "    have high population but there is deficit in psychiatrists."
   ]
  },
  {
   "cell_type": "markdown",
   "id": "c86f6869",
   "metadata": {},
   "source": [
    "# ~~~ Prescriptive analysis"
   ]
  },
  {
   "cell_type": "markdown",
   "id": "09480c28",
   "metadata": {},
   "source": [
    "As, these States have high population but there is deficit in psychiatrists, so there is need for government to take some measures to promote awareness of mental health diseases like Schizophrenia and also try to meet ideal psychiatrist count for state. "
   ]
  },
  {
   "cell_type": "markdown",
   "id": "eda13fc9",
   "metadata": {},
   "source": [
    "# <center> End of Task 3"
   ]
  },
  {
   "cell_type": "markdown",
   "id": "3781f409",
   "metadata": {},
   "source": [
    "# ~~~~ ~~~~ Conclusion\n",
    "\n",
    "**On part of Government**\n",
    "\n",
    "1. Government should spend more on mental healthcare to achieve Higher wages and better living conditions in smaller towns and villages will enable medical staff and doctors to be able to work there.\n",
    "2. Government should take some measures to promote awareness of mental health diseases like Schizophrenia and also try to meet ideal psychiatrist count for state. \n",
    "\n",
    "**On part of citizens of the country**\n",
    "\n",
    "1. Consumption of omega-3 fatty acids (found in fish oil) may help prevent psychotic disorders from getting worse.\n",
    "\n",
    "**On part of parents of the country**\n",
    "\n",
    "1. Teens, especially, should be encouraged to connect with friends and avoid isolation."
   ]
  }
 ],
 "metadata": {
  "kernelspec": {
   "display_name": "Python 3 (ipykernel)",
   "language": "python",
   "name": "python3"
  },
  "language_info": {
   "codemirror_mode": {
    "name": "ipython",
    "version": 3
   },
   "file_extension": ".py",
   "mimetype": "text/x-python",
   "name": "python",
   "nbconvert_exporter": "python",
   "pygments_lexer": "ipython3",
   "version": "3.9.7"
  }
 },
 "nbformat": 4,
 "nbformat_minor": 5
}
